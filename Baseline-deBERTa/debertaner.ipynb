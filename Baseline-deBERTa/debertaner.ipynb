{
 "cells": [
  {
   "cell_type": "code",
   "execution_count": 1,
   "id": "129a1131",
   "metadata": {
    "_cell_guid": "b1076dfc-b9ad-4769-8c92-a6c4dae69d19",
    "_uuid": "8f2839f25d086af736a60e9eeb907d3b93b6e0e5",
    "execution": {
     "iopub.execute_input": "2024-12-22T10:16:13.444504Z",
     "iopub.status.busy": "2024-12-22T10:16:13.444173Z",
     "iopub.status.idle": "2024-12-22T10:16:14.268765Z",
     "shell.execute_reply": "2024-12-22T10:16:14.267938Z"
    },
    "papermill": {
     "duration": 0.832467,
     "end_time": "2024-12-22T10:16:14.270485",
     "exception": false,
     "start_time": "2024-12-22T10:16:13.438018",
     "status": "completed"
    },
    "tags": []
   },
   "outputs": [
    {
     "name": "stdout",
     "output_type": "stream",
     "text": [
      "/kaggle/input/pii-detection-removal-from-educational-data/sample_submission.csv\n",
      "/kaggle/input/pii-detection-removal-from-educational-data/train.json\n",
      "/kaggle/input/pii-detection-removal-from-educational-data/test.json\n",
      "/kaggle/input/pm-73346157-at-12-22-2024-10-15-25/evaluate-0.4.3-py3-none-any.whl\n",
      "/kaggle/input/pm-73346157-at-12-22-2024-10-15-25/__script__.py\n",
      "/kaggle/input/pm-73346157-at-12-22-2024-10-15-25/tzdata-2024.2-py2.py3-none-any.whl\n",
      "/kaggle/input/pm-73346157-at-12-22-2024-10-15-25/numpy-2.2.1-cp310-cp310-manylinux_2_17_x86_64.manylinux2014_x86_64.whl\n",
      "/kaggle/input/pm-73346157-at-12-22-2024-10-15-25/aiohttp-3.11.11-cp310-cp310-manylinux_2_17_x86_64.manylinux2014_x86_64.whl\n",
      "/kaggle/input/pm-73346157-at-12-22-2024-10-15-25/scipy-1.14.1-cp310-cp310-manylinux_2_17_x86_64.manylinux2014_x86_64.whl\n",
      "/kaggle/input/pm-73346157-at-12-22-2024-10-15-25/urllib3-2.3.0-py3-none-any.whl\n",
      "/kaggle/input/pm-73346157-at-12-22-2024-10-15-25/fsspec-2024.9.0-py3-none-any.whl\n",
      "/kaggle/input/pm-73346157-at-12-22-2024-10-15-25/certifi-2024.12.14-py3-none-any.whl\n",
      "/kaggle/input/pm-73346157-at-12-22-2024-10-15-25/frozenlist-1.5.0-cp310-cp310-manylinux_2_5_x86_64.manylinux1_x86_64.manylinux_2_17_x86_64.manylinux2014_x86_64.whl\n",
      "/kaggle/input/pm-73346157-at-12-22-2024-10-15-25/tqdm-4.67.1-py3-none-any.whl\n",
      "/kaggle/input/pm-73346157-at-12-22-2024-10-15-25/aiosignal-1.3.2-py2.py3-none-any.whl\n",
      "/kaggle/input/pm-73346157-at-12-22-2024-10-15-25/pyarrow-18.1.0-cp310-cp310-manylinux_2_28_x86_64.whl\n",
      "/kaggle/input/pm-73346157-at-12-22-2024-10-15-25/attrs-24.3.0-py3-none-any.whl\n",
      "/kaggle/input/pm-73346157-at-12-22-2024-10-15-25/PyYAML-6.0.2-cp310-cp310-manylinux_2_17_x86_64.manylinux2014_x86_64.whl\n",
      "/kaggle/input/pm-73346157-at-12-22-2024-10-15-25/__results__.html\n",
      "/kaggle/input/pm-73346157-at-12-22-2024-10-15-25/multidict-6.1.0-cp310-cp310-manylinux_2_17_x86_64.manylinux2014_x86_64.whl\n",
      "/kaggle/input/pm-73346157-at-12-22-2024-10-15-25/scikit_learn-1.6.0-cp310-cp310-manylinux_2_17_x86_64.manylinux2014_x86_64.whl\n",
      "/kaggle/input/pm-73346157-at-12-22-2024-10-15-25/yarl-1.18.3-cp310-cp310-manylinux_2_17_x86_64.manylinux2014_x86_64.whl\n",
      "/kaggle/input/pm-73346157-at-12-22-2024-10-15-25/idna-3.10-py3-none-any.whl\n",
      "/kaggle/input/pm-73346157-at-12-22-2024-10-15-25/input_requirements.txt\n",
      "/kaggle/input/pm-73346157-at-12-22-2024-10-15-25/filelock-3.16.1-py3-none-any.whl\n",
      "/kaggle/input/pm-73346157-at-12-22-2024-10-15-25/six-1.17.0-py2.py3-none-any.whl\n",
      "/kaggle/input/pm-73346157-at-12-22-2024-10-15-25/threadpoolctl-3.5.0-py3-none-any.whl\n",
      "/kaggle/input/pm-73346157-at-12-22-2024-10-15-25/python_dateutil-2.9.0.post0-py2.py3-none-any.whl\n",
      "/kaggle/input/pm-73346157-at-12-22-2024-10-15-25/async_timeout-5.0.1-py3-none-any.whl\n",
      "/kaggle/input/pm-73346157-at-12-22-2024-10-15-25/aiohappyeyeballs-2.4.4-py3-none-any.whl\n",
      "/kaggle/input/pm-73346157-at-12-22-2024-10-15-25/multiprocess-0.70.16-py310-none-any.whl\n",
      "/kaggle/input/pm-73346157-at-12-22-2024-10-15-25/__script__.ipynb\n",
      "/kaggle/input/pm-73346157-at-12-22-2024-10-15-25/xxhash-3.5.0-cp310-cp310-manylinux_2_17_x86_64.manylinux2014_x86_64.whl\n",
      "/kaggle/input/pm-73346157-at-12-22-2024-10-15-25/requests-2.32.3-py3-none-any.whl\n",
      "/kaggle/input/pm-73346157-at-12-22-2024-10-15-25/__output__.json\n",
      "/kaggle/input/pm-73346157-at-12-22-2024-10-15-25/joblib-1.4.2-py3-none-any.whl\n",
      "/kaggle/input/pm-73346157-at-12-22-2024-10-15-25/typing_extensions-4.12.2-py3-none-any.whl\n",
      "/kaggle/input/pm-73346157-at-12-22-2024-10-15-25/propcache-0.2.1-cp310-cp310-manylinux_2_17_x86_64.manylinux2014_x86_64.whl\n",
      "/kaggle/input/pm-73346157-at-12-22-2024-10-15-25/pytz-2024.2-py2.py3-none-any.whl\n",
      "/kaggle/input/pm-73346157-at-12-22-2024-10-15-25/dill-0.3.8-py3-none-any.whl\n",
      "/kaggle/input/pm-73346157-at-12-22-2024-10-15-25/huggingface_hub-0.27.0-py3-none-any.whl\n",
      "/kaggle/input/pm-73346157-at-12-22-2024-10-15-25/install_requirements.sh\n",
      "/kaggle/input/pm-73346157-at-12-22-2024-10-15-25/pandas-2.2.3-cp310-cp310-manylinux_2_17_x86_64.manylinux2014_x86_64.whl\n",
      "/kaggle/input/pm-73346157-at-12-22-2024-10-15-25/seqeval-1.2.2.tar.gz\n",
      "/kaggle/input/pm-73346157-at-12-22-2024-10-15-25/packaging-24.2-py3-none-any.whl\n",
      "/kaggle/input/pm-73346157-at-12-22-2024-10-15-25/datasets-3.2.0-py3-none-any.whl\n",
      "/kaggle/input/pm-73346157-at-12-22-2024-10-15-25/charset_normalizer-3.4.0-cp310-cp310-manylinux_2_17_x86_64.manylinux2014_x86_64.whl\n",
      "/kaggle/input/pm-73346157-at-12-22-2024-10-15-25/custom.css\n",
      "/kaggle/input/debertav3base/rust_model.ot\n",
      "/kaggle/input/debertav3base/spm.model\n",
      "/kaggle/input/debertav3base/config.json\n",
      "/kaggle/input/debertav3base/tf_model.h5\n",
      "/kaggle/input/debertav3base/tokenizer_config.json\n",
      "/kaggle/input/debertav3base/pytorch_model.bin\n"
     ]
    }
   ],
   "source": [
    "# This Python 3 environment comes with many helpful analytics libraries installed\n",
    "# It is defined by the kaggle/python Docker image: https://github.com/kaggle/docker-python\n",
    "# For example, here's several helpful packages to load\n",
    "\n",
    "import numpy as np # linear algebra\n",
    "import pandas as pd # data processing, CSV file I/O (e.g. pd.read_csv)\n",
    "\n",
    "# Input data files are available in the read-only \"../input/\" directory\n",
    "# For example, running this (by clicking run or pressing Shift+Enter) will list all files under the input directory\n",
    "\n",
    "import os\n",
    "for dirname, _, filenames in os.walk('/kaggle/input'):\n",
    "    for filename in filenames:\n",
    "        print(os.path.join(dirname, filename))\n",
    "\n",
    "# You can write up to 20GB to the current directory (/kaggle/working/) that gets preserved as output when you create a version using \"Save & Run All\" \n",
    "# You can also write temporary files to /kaggle/temp/, but they won't be saved outside of the current session"
   ]
  },
  {
   "cell_type": "code",
   "execution_count": 2,
   "id": "c6ce8a14",
   "metadata": {
    "execution": {
     "iopub.execute_input": "2024-12-22T10:16:14.280686Z",
     "iopub.status.busy": "2024-12-22T10:16:14.280309Z",
     "iopub.status.idle": "2024-12-22T10:16:14.682410Z",
     "shell.execute_reply": "2024-12-22T10:16:14.681441Z"
    },
    "papermill": {
     "duration": 0.408492,
     "end_time": "2024-12-22T10:16:14.683876",
     "exception": false,
     "start_time": "2024-12-22T10:16:14.275384",
     "status": "completed"
    },
    "tags": []
   },
   "outputs": [
    {
     "name": "stdout",
     "output_type": "stream",
     "text": [
      "Path to dataset files: /kaggle/input/debertav3base\n"
     ]
    }
   ],
   "source": [
    "import kagglehub\n",
    "\n",
    "# Download latest version\n",
    "path = kagglehub.dataset_download(\"debarshichanda/debertav3base\")\n",
    "\n",
    "print(\"Path to dataset files:\", path)"
   ]
  },
  {
   "cell_type": "code",
   "execution_count": 3,
   "id": "f4dca54f",
   "metadata": {
    "execution": {
     "iopub.execute_input": "2024-12-22T10:16:14.693818Z",
     "iopub.status.busy": "2024-12-22T10:16:14.693538Z",
     "iopub.status.idle": "2024-12-22T10:16:14.696844Z",
     "shell.execute_reply": "2024-12-22T10:16:14.696170Z"
    },
    "papermill": {
     "duration": 0.009578,
     "end_time": "2024-12-22T10:16:14.698178",
     "exception": false,
     "start_time": "2024-12-22T10:16:14.688600",
     "status": "completed"
    },
    "tags": []
   },
   "outputs": [],
   "source": [
    "TRAINING_MODEL_PATH = \"/kaggle/input/debertav3base\"  \n",
    "TRAINING_MAX_LENGTH = 720\n",
    "OUTPUT_DIR = 'output'"
   ]
  },
  {
   "cell_type": "code",
   "execution_count": 4,
   "id": "0b120bec",
   "metadata": {
    "execution": {
     "iopub.execute_input": "2024-12-22T10:16:14.707922Z",
     "iopub.status.busy": "2024-12-22T10:16:14.707631Z",
     "iopub.status.idle": "2024-12-22T10:16:18.025875Z",
     "shell.execute_reply": "2024-12-22T10:16:18.024589Z"
    },
    "papermill": {
     "duration": 3.324738,
     "end_time": "2024-12-22T10:16:18.027458",
     "exception": false,
     "start_time": "2024-12-22T10:16:14.702720",
     "status": "completed"
    },
    "tags": []
   },
   "outputs": [
    {
     "name": "stdout",
     "output_type": "stream",
     "text": [
      "Note: you may need to restart the kernel to use updated packages.\n"
     ]
    }
   ],
   "source": [
    "pip install seqeval evaluate -q"
   ]
  },
  {
   "cell_type": "code",
   "execution_count": 5,
   "id": "5fc02b03",
   "metadata": {
    "execution": {
     "iopub.execute_input": "2024-12-22T10:16:18.037743Z",
     "iopub.status.busy": "2024-12-22T10:16:18.037442Z",
     "iopub.status.idle": "2024-12-22T10:16:35.506452Z",
     "shell.execute_reply": "2024-12-22T10:16:35.505751Z"
    },
    "papermill": {
     "duration": 17.475831,
     "end_time": "2024-12-22T10:16:35.508073",
     "exception": false,
     "start_time": "2024-12-22T10:16:18.032242",
     "status": "completed"
    },
    "tags": []
   },
   "outputs": [],
   "source": [
    "import json\n",
    "import argparse\n",
    "from itertools import chain\n",
    "from functools import partial\n",
    "\n",
    "import torch\n",
    "from transformers import AutoTokenizer, Trainer, TrainingArguments\n",
    "from transformers import AutoModelForTokenClassification, DataCollatorForTokenClassification\n",
    "import evaluate\n",
    "from datasets import Dataset, features\n",
    "import numpy as np"
   ]
  },
  {
   "cell_type": "code",
   "execution_count": 6,
   "id": "5f48bf39",
   "metadata": {
    "execution": {
     "iopub.execute_input": "2024-12-22T10:16:35.518923Z",
     "iopub.status.busy": "2024-12-22T10:16:35.518357Z",
     "iopub.status.idle": "2024-12-22T10:16:37.984647Z",
     "shell.execute_reply": "2024-12-22T10:16:37.983599Z"
    },
    "papermill": {
     "duration": 2.473104,
     "end_time": "2024-12-22T10:16:37.986207",
     "exception": false,
     "start_time": "2024-12-22T10:16:35.513103",
     "status": "completed"
    },
    "tags": []
   },
   "outputs": [
    {
     "name": "stdout",
     "output_type": "stream",
     "text": [
      "6807\n",
      "dict_keys(['document', 'full_text', 'tokens', 'trailing_whitespace', 'labels'])\n"
     ]
    }
   ],
   "source": [
    "import json\n",
    "\n",
    "data = json.load(open(\"/kaggle/input/pii-detection-removal-from-educational-data/train.json\"))\n",
    "\n",
    "print(len(data))\n",
    "print(data[0].keys())"
   ]
  },
  {
   "cell_type": "code",
   "execution_count": 7,
   "id": "2eb856b8",
   "metadata": {
    "execution": {
     "iopub.execute_input": "2024-12-22T10:16:37.996854Z",
     "iopub.status.busy": "2024-12-22T10:16:37.996574Z",
     "iopub.status.idle": "2024-12-22T10:16:38.001945Z",
     "shell.execute_reply": "2024-12-22T10:16:38.001253Z"
    },
    "papermill": {
     "duration": 0.012108,
     "end_time": "2024-12-22T10:16:38.003309",
     "exception": false,
     "start_time": "2024-12-22T10:16:37.991201",
     "status": "completed"
    },
    "tags": []
   },
   "outputs": [
    {
     "data": {
      "text/plain": [
       "\"Design Thinking for innovation reflexion-Avril 2021-Nathalie Sylla\\n\\nChallenge & selection\\n\\nThe tool I use to help all stakeholders finding their way through the complexity of a project is the  mind map.\\n\\nWhat exactly is a mind map? According to the definition of Buzan T. and Buzan B. (1999, Dessine-moi  l'intelligence. Paris: Les Éditions d'Organisation.), the mind map (or heuristic diagram) is a graphic  representation technique that follows the natural functioning of the mind and allows the brain's  potential to be released. Cf Annex1\\n\\nThis tool has many advantages:\\n\\n•  It is accessible to all and does not require significant material investment and can be done  quickly\\n\\n•  It is scalable\\n\\n•  It allows categorization and linking of information\\n\\n•  It can be applied to any type of situation: notetaking, problem solving, analysis, creation of  new ideas\\n\\n•  It is suitable for all people and is easy to learn\\n\\n•  It is fun and encourages exchanges\\n\\n•  It makes visible the dimension of projects, opportunities, interconnections\\n\\n•  It synthesizes\\n\\n•  It makes the project understandable\\n\\n•  It allows you to explore ideas\\n\\nThe creation of a mind map starts with an idea/problem located at its center. This starting point  generates ideas/work areas, incremented around this center in a radial structure, which in turn is  completed with as many branches as new ideas.\\n\\nThis tool enables creativity and logic to be mobilized, it is a map of the thoughts.\\n\\nCreativity is enhanced because participants feel comfortable with the method.\\n\\nApplication & Insight\\n\\nI start the process of the mind map creation with the stakeholders standing around a large board  (white or paper board). In the center of the board, I write and highlight the topic to design.\\n\\nThrough a series of questions, I guide the stakeholders in modelling the mind map. I adapt the series  of questions according to the topic to be addressed. In the type of questions, we can use: who, what,  when, where, why, how, how much.\\n\\nThe use of the “why” is very interesting to understand the origin. By this way, the interviewed person  frees itself from paradigms and thus dares to propose new ideas / ways of functioning. I plan two  hours for a workshop.\\n\\nDesign Thinking for innovation reflexion-Avril 2021-Nathalie Sylla\\n\\nAfter modelling the mind map on paper, I propose to the participants a digital visualization of their  work with the addition of color codes, images and interconnections. This second workshop also lasts  two hours and allows the mind map to evolve. Once familiarized with it, the stakeholders discover  the power of the tool. Then, the second workshop brings out even more ideas and constructive  exchanges between the stakeholders. Around this new mind map, they have learned to work  together and want to make visible the untold ideas.\\n\\nI now present all the projects I manage in this type of format in order to ease rapid understanding for  decision-makers. These presentations are the core of my business models. The decision-makers are  thus able to identify the opportunities of the projects and can take quick decisions to validate them.  They find answers to their questions thank to a schematic representation.\\n\\nApproach\\n\\nWhat I find amazing with the facilitation of this type of workshop is the participants commitment for  the project. This tool helps to give meaning. The participants appropriate the story and want to keep  writing it. Then, they easily become actors or sponsors of the project. A trust relationship is built,  thus facilitating the implementation of related actions.\\n\\nDesign Thinking for innovation reflexion-Avril 2021-Nathalie Sylla\\n\\nAnnex 1: Mind Map Shared facilities project\\n\\n\""
      ]
     },
     "execution_count": 7,
     "metadata": {},
     "output_type": "execute_result"
    }
   ],
   "source": [
    "data[0][\"full_text\"]"
   ]
  },
  {
   "cell_type": "code",
   "execution_count": null,
   "id": "e70fabcd",
   "metadata": {
    "_kg_hide-output": true,
    "papermill": {
     "duration": 0.004508,
     "end_time": "2024-12-22T10:16:38.012658",
     "exception": false,
     "start_time": "2024-12-22T10:16:38.008150",
     "status": "completed"
    },
    "tags": []
   },
   "outputs": [],
   "source": []
  },
  {
   "cell_type": "code",
   "execution_count": 8,
   "id": "3530b105",
   "metadata": {
    "execution": {
     "iopub.execute_input": "2024-12-22T10:16:38.023108Z",
     "iopub.status.busy": "2024-12-22T10:16:38.022779Z",
     "iopub.status.idle": "2024-12-22T10:16:38.080415Z",
     "shell.execute_reply": "2024-12-22T10:16:38.079481Z"
    },
    "papermill": {
     "duration": 0.064263,
     "end_time": "2024-12-22T10:16:38.081655",
     "exception": false,
     "start_time": "2024-12-22T10:16:38.017392",
     "status": "completed"
    },
    "tags": []
   },
   "outputs": [
    {
     "name": "stdout",
     "output_type": "stream",
     "text": [
      "{0: 'B-EMAIL', 1: 'B-ID_NUM', 2: 'B-NAME_STUDENT', 3: 'B-PHONE_NUM', 4: 'B-STREET_ADDRESS', 5: 'B-URL_PERSONAL', 6: 'B-USERNAME', 7: 'I-ID_NUM', 8: 'I-NAME_STUDENT', 9: 'I-PHONE_NUM', 10: 'I-STREET_ADDRESS', 11: 'I-URL_PERSONAL', 12: 'O'}\n"
     ]
    }
   ],
   "source": [
    "all_labels = sorted(list(set(chain(*[x[\"labels\"] for x in data]))))\n",
    "label2id = {l: i for i,l in enumerate(all_labels)}\n",
    "id2label = {v:k for k,v in label2id.items()}\n",
    "\n",
    "print(id2label)\n"
   ]
  },
  {
   "cell_type": "code",
   "execution_count": 9,
   "id": "f6c8cfbf",
   "metadata": {
    "execution": {
     "iopub.execute_input": "2024-12-22T10:16:38.092620Z",
     "iopub.status.busy": "2024-12-22T10:16:38.092373Z",
     "iopub.status.idle": "2024-12-22T10:16:38.095523Z",
     "shell.execute_reply": "2024-12-22T10:16:38.094900Z"
    },
    "papermill": {
     "duration": 0.009998,
     "end_time": "2024-12-22T10:16:38.096803",
     "exception": false,
     "start_time": "2024-12-22T10:16:38.086805",
     "status": "completed"
    },
    "tags": []
   },
   "outputs": [],
   "source": [
    "target = [\n",
    "    'B-EMAIL', 'B-ID_NUM', 'B-NAME_STUDENT', 'B-PHONE_NUM', \n",
    "    'B-STREET_ADDRESS', 'B-URL_PERSONAL', 'B-USERNAME', 'I-ID_NUM', \n",
    "    'I-NAME_STUDENT', 'I-PHONE_NUM', 'I-STREET_ADDRESS', 'I-URL_PERSONAL'\n",
    "]"
   ]
  },
  {
   "cell_type": "code",
   "execution_count": 10,
   "id": "bca42a3f",
   "metadata": {
    "execution": {
     "iopub.execute_input": "2024-12-22T10:16:38.107776Z",
     "iopub.status.busy": "2024-12-22T10:16:38.107546Z",
     "iopub.status.idle": "2024-12-22T10:16:38.115356Z",
     "shell.execute_reply": "2024-12-22T10:16:38.114734Z"
    },
    "papermill": {
     "duration": 0.014785,
     "end_time": "2024-12-22T10:16:38.116642",
     "exception": false,
     "start_time": "2024-12-22T10:16:38.101857",
     "status": "completed"
    },
    "tags": []
   },
   "outputs": [],
   "source": [
    "def tokenize(example, tokenizer, label2id):\n",
    "    text = []\n",
    "\n",
    "    # these are at the character level\n",
    "    labels = []\n",
    "    targets = []\n",
    "\n",
    "    for t, l, ws in zip(example[\"tokens\"], example[\"provided_labels\"], example[\"trailing_whitespace\"]):\n",
    "\n",
    "        text.append(t)\n",
    "        labels.extend([l]*len(t))\n",
    "        \n",
    "        if l in target:\n",
    "            targets.append(1)\n",
    "        else:\n",
    "            targets.append(0)\n",
    "        # if there is trailing whitespace\n",
    "        if ws:\n",
    "            text.append(\" \")\n",
    "            labels.append(\"O\")\n",
    "\n",
    "    tokenized = tokenizer(\"\".join(text), return_offsets_mapping=True, truncation=True, max_length=TRAINING_MAX_LENGTH)\n",
    "    \n",
    "    target_num = sum(targets)\n",
    "    labels = np.array(labels)\n",
    "\n",
    "    text = \"\".join(text)\n",
    "    token_labels = []\n",
    "\n",
    "    for start_idx, end_idx in tokenized.offset_mapping:\n",
    "\n",
    "        # CLS token\n",
    "        if start_idx == 0 and end_idx == 0: \n",
    "            token_labels.append(label2id[\"O\"])\n",
    "            continue\n",
    "\n",
    "        # case when token starts with whitespace\n",
    "        if text[start_idx].isspace():\n",
    "            start_idx += 1\n",
    "\n",
    "        token_labels.append(label2id[labels[start_idx]])\n",
    "\n",
    "    length = len(tokenized.input_ids)\n",
    "\n",
    "    return {\n",
    "        **tokenized,\n",
    "        \"labels\": token_labels,\n",
    "        \"length\": length,\n",
    "        \"target_num\": target_num,\n",
    "        \"group\": 1 if target_num>0 else 0\n",
    "    }"
   ]
  },
  {
   "cell_type": "code",
   "execution_count": 11,
   "id": "e531ccbc",
   "metadata": {
    "execution": {
     "iopub.execute_input": "2024-12-22T10:16:38.127730Z",
     "iopub.status.busy": "2024-12-22T10:16:38.127500Z",
     "iopub.status.idle": "2024-12-22T10:16:40.935438Z",
     "shell.execute_reply": "2024-12-22T10:16:40.934739Z"
    },
    "papermill": {
     "duration": 2.815059,
     "end_time": "2024-12-22T10:16:40.937086",
     "exception": false,
     "start_time": "2024-12-22T10:16:38.122027",
     "status": "completed"
    },
    "tags": []
   },
   "outputs": [
    {
     "name": "stderr",
     "output_type": "stream",
     "text": [
      "/usr/local/lib/python3.10/dist-packages/transformers/tokenization_utils_base.py:1601: FutureWarning: `clean_up_tokenization_spaces` was not set. It will be set to `True` by default. This behavior will be depracted in transformers v4.45, and will be then set to `False` by default. For more details check this issue: https://github.com/huggingface/transformers/issues/31884\n",
      "  warnings.warn(\n",
      "/usr/local/lib/python3.10/dist-packages/transformers/convert_slow_tokenizer.py:551: UserWarning: The sentencepiece tokenizer that you are converting to a fast tokenizer uses the byte fallback option which is not implemented in the fast tokenizers. In practice this means that the fast version of the tokenizer can produce unknown tokens whereas the sentencepiece version would have converted these unknown tokens into a sequence of byte tokens matching the original piece of text.\n",
      "  warnings.warn(\n"
     ]
    }
   ],
   "source": [
    "tokenizer = AutoTokenizer.from_pretrained(TRAINING_MODEL_PATH)\n",
    "\n",
    "ds = Dataset.from_dict({\n",
    "    \"full_text\": [x[\"full_text\"] for x in data],\n",
    "    \"document\": [x[\"document\"] for x in data],\n",
    "    \"tokens\": [x[\"tokens\"] for x in data],\n",
    "    \"trailing_whitespace\": [x[\"trailing_whitespace\"] for x in data],\n",
    "    \"provided_labels\": [x[\"labels\"] for x in data],\n",
    "})"
   ]
  },
  {
   "cell_type": "code",
   "execution_count": 12,
   "id": "1dc36fdf",
   "metadata": {
    "execution": {
     "iopub.execute_input": "2024-12-22T10:16:40.949489Z",
     "iopub.status.busy": "2024-12-22T10:16:40.949190Z",
     "iopub.status.idle": "2024-12-22T10:17:11.761661Z",
     "shell.execute_reply": "2024-12-22T10:17:11.760687Z"
    },
    "papermill": {
     "duration": 30.820574,
     "end_time": "2024-12-22T10:17:11.763224",
     "exception": false,
     "start_time": "2024-12-22T10:16:40.942650",
     "status": "completed"
    },
    "tags": []
   },
   "outputs": [
    {
     "name": "stderr",
     "output_type": "stream",
     "text": [
      "/usr/local/lib/python3.10/dist-packages/multiprocess/popen_fork.py:66: RuntimeWarning: os.fork() was called. os.fork() is incompatible with multithreaded code, and JAX is multithreaded, so this will likely lead to a deadlock.\n",
      "  self.pid = os.fork()\n"
     ]
    },
    {
     "data": {
      "application/vnd.jupyter.widget-view+json": {
       "model_id": "e074404874ce4c0bbf076e4f88e2f4b6",
       "version_major": 2,
       "version_minor": 0
      },
      "text/plain": [
       "Map (num_proc=2):   0%|          | 0/6807 [00:00<?, ? examples/s]"
      ]
     },
     "metadata": {},
     "output_type": "display_data"
    },
    {
     "data": {
      "application/vnd.jupyter.widget-view+json": {
       "model_id": "bd562d70dd4a4b9db544a29473494265",
       "version_major": 2,
       "version_minor": 0
      },
      "text/plain": [
       "Stringifying the column:   0%|          | 0/6807 [00:00<?, ? examples/s]"
      ]
     },
     "metadata": {},
     "output_type": "display_data"
    },
    {
     "data": {
      "application/vnd.jupyter.widget-view+json": {
       "model_id": "8f3e7ed25e584f4f9514bc6cb4a62f23",
       "version_major": 2,
       "version_minor": 0
      },
      "text/plain": [
       "Casting to class labels:   0%|          | 0/6807 [00:00<?, ? examples/s]"
      ]
     },
     "metadata": {},
     "output_type": "display_data"
    },
    {
     "name": "stdout",
     "output_type": "stream",
     "text": [
      "CPU times: user 1.8 s, sys: 2.85 s, total: 4.65 s\n",
      "Wall time: 30.8 s\n"
     ]
    }
   ],
   "source": [
    "%%time\n",
    "ds = ds.map(tokenize, fn_kwargs={\"tokenizer\": tokenizer, \"label2id\": label2id}, num_proc=2)\n",
    "ds = ds.class_encode_column(\"group\")"
   ]
  },
  {
   "cell_type": "code",
   "execution_count": 13,
   "id": "1bfbc690",
   "metadata": {
    "execution": {
     "iopub.execute_input": "2024-12-22T10:17:11.775695Z",
     "iopub.status.busy": "2024-12-22T10:17:11.775417Z",
     "iopub.status.idle": "2024-12-22T10:17:11.789374Z",
     "shell.execute_reply": "2024-12-22T10:17:11.788327Z"
    },
    "papermill": {
     "duration": 0.021594,
     "end_time": "2024-12-22T10:17:11.790742",
     "exception": false,
     "start_time": "2024-12-22T10:17:11.769148",
     "status": "completed"
    },
    "tags": []
   },
   "outputs": [
    {
     "name": "stdout",
     "output_type": "stream",
     "text": [
      "('Nathalie', 'B-NAME_STUDENT')\n",
      "('Sylla', 'I-NAME_STUDENT')\n",
      "('Nathalie', 'B-NAME_STUDENT')\n",
      "('Sylla', 'I-NAME_STUDENT')\n",
      "('Nathalie', 'B-NAME_STUDENT')\n",
      "('Sylla', 'I-NAME_STUDENT')\n",
      "****************************************************************************************************\n",
      "('N', 'B-NAME_STUDENT')\n",
      "('atha', 'B-NAME_STUDENT')\n",
      "('lie', 'B-NAME_STUDENT')\n",
      "('▁S', 'I-NAME_STUDENT')\n",
      "('ylla', 'I-NAME_STUDENT')\n",
      "('N', 'B-NAME_STUDENT')\n",
      "('atha', 'B-NAME_STUDENT')\n",
      "('lie', 'B-NAME_STUDENT')\n",
      "('▁S', 'I-NAME_STUDENT')\n",
      "('ylla', 'I-NAME_STUDENT')\n",
      "('N', 'B-NAME_STUDENT')\n",
      "('atha', 'B-NAME_STUDENT')\n",
      "('lie', 'B-NAME_STUDENT')\n",
      "('▁S', 'I-NAME_STUDENT')\n",
      "('ylla', 'I-NAME_STUDENT')\n"
     ]
    }
   ],
   "source": [
    "x = ds[0]\n",
    "\n",
    "for t,l in zip(x[\"tokens\"], x[\"provided_labels\"]):\n",
    "    if l != \"O\":\n",
    "        print((t,l))\n",
    "\n",
    "print(\"*\"*100)\n",
    "\n",
    "for t, l in zip(tokenizer.convert_ids_to_tokens(x[\"input_ids\"]), x[\"labels\"]):\n",
    "    if id2label[l] != \"O\":\n",
    "        print((t,id2label[l]))"
   ]
  },
  {
   "cell_type": "code",
   "execution_count": 14,
   "id": "e0a96431",
   "metadata": {
    "execution": {
     "iopub.execute_input": "2024-12-22T10:17:11.802490Z",
     "iopub.status.busy": "2024-12-22T10:17:11.802223Z",
     "iopub.status.idle": "2024-12-22T10:17:11.811371Z",
     "shell.execute_reply": "2024-12-22T10:17:11.810567Z"
    },
    "papermill": {
     "duration": 0.016303,
     "end_time": "2024-12-22T10:17:11.812644",
     "exception": false,
     "start_time": "2024-12-22T10:17:11.796341",
     "status": "completed"
    },
    "tags": []
   },
   "outputs": [],
   "source": [
    "from seqeval.metrics import recall_score, precision_score\n",
    "from seqeval.metrics import classification_report\n",
    "from seqeval.metrics import f1_score\n",
    "\n",
    "def compute_metrics(p, all_labels):\n",
    "    predictions, labels = p\n",
    "    predictions = np.argmax(predictions, axis=2)\n",
    "\n",
    "    # Remove ignored index (special tokens)\n",
    "    true_predictions = [\n",
    "        [all_labels[p] for (p, l) in zip(prediction, label) if l != -100]\n",
    "        for prediction, label in zip(predictions, labels)\n",
    "    ]\n",
    "    true_labels = [\n",
    "        [all_labels[l] for (p, l) in zip(prediction, label) if l != -100]\n",
    "        for prediction, label in zip(predictions, labels)\n",
    "    ]\n",
    "    \n",
    "    recall = recall_score(true_labels, true_predictions)\n",
    "    precision = precision_score(true_labels, true_predictions)\n",
    "    f1_score = (1 + 5*5) * recall * precision / (5*5*precision + recall)\n",
    "    \n",
    "    results = {\n",
    "        'recall': recall,\n",
    "        'precision': precision,\n",
    "        'f1': f1_score\n",
    "    }\n",
    "    return results"
   ]
  },
  {
   "cell_type": "code",
   "execution_count": 15,
   "id": "c9c47008",
   "metadata": {
    "execution": {
     "iopub.execute_input": "2024-12-22T10:17:11.824213Z",
     "iopub.status.busy": "2024-12-22T10:17:11.823978Z",
     "iopub.status.idle": "2024-12-22T10:17:18.056084Z",
     "shell.execute_reply": "2024-12-22T10:17:18.055410Z"
    },
    "papermill": {
     "duration": 6.239372,
     "end_time": "2024-12-22T10:17:18.057427",
     "exception": false,
     "start_time": "2024-12-22T10:17:11.818055",
     "status": "completed"
    },
    "tags": []
   },
   "outputs": [
    {
     "name": "stderr",
     "output_type": "stream",
     "text": [
      "Some weights of DebertaV2ForTokenClassification were not initialized from the model checkpoint at /kaggle/input/debertav3base and are newly initialized: ['classifier.bias', 'classifier.weight']\n",
      "You should probably TRAIN this model on a down-stream task to be able to use it for predictions and inference.\n"
     ]
    }
   ],
   "source": [
    "model = AutoModelForTokenClassification.from_pretrained(\n",
    "    TRAINING_MODEL_PATH,\n",
    "    num_labels=len(all_labels),\n",
    "    id2label=id2label,\n",
    "    label2id=label2id,\n",
    "    ignore_mismatched_sizes=True\n",
    ")\n",
    "collator = DataCollatorForTokenClassification(tokenizer, pad_to_multiple_of=16)"
   ]
  },
  {
   "cell_type": "code",
   "execution_count": 16,
   "id": "3d60a60b",
   "metadata": {
    "execution": {
     "iopub.execute_input": "2024-12-22T10:17:18.070540Z",
     "iopub.status.busy": "2024-12-22T10:17:18.070284Z",
     "iopub.status.idle": "2024-12-22T10:17:18.075725Z",
     "shell.execute_reply": "2024-12-22T10:17:18.075017Z"
    },
    "papermill": {
     "duration": 0.013333,
     "end_time": "2024-12-22T10:17:18.076873",
     "exception": false,
     "start_time": "2024-12-22T10:17:18.063540",
     "status": "completed"
    },
    "tags": []
   },
   "outputs": [
    {
     "name": "stdout",
     "output_type": "stream",
     "text": [
      "Freezing 6 layers.\n"
     ]
    }
   ],
   "source": [
    "FREEZE_EMBEDDINGS = False\n",
    "FREEZE_LAYERS = 6\n",
    "\n",
    "if FREEZE_EMBEDDINGS:\n",
    "    print('Freezing embeddings.')\n",
    "    for param in model.deberta.embeddings.parameters():\n",
    "        param.requires_grad = False\n",
    "        \n",
    "if FREEZE_LAYERS>0:\n",
    "    print(f'Freezing {FREEZE_LAYERS} layers.')\n",
    "    for layer in model.deberta.encoder.layer[:FREEZE_LAYERS]:\n",
    "        for param in layer.parameters():\n",
    "            param.requires_grad = False"
   ]
  },
  {
   "cell_type": "code",
   "execution_count": 17,
   "id": "6cd2e6c6",
   "metadata": {
    "execution": {
     "iopub.execute_input": "2024-12-22T10:17:18.089254Z",
     "iopub.status.busy": "2024-12-22T10:17:18.089019Z",
     "iopub.status.idle": "2024-12-22T10:17:18.103477Z",
     "shell.execute_reply": "2024-12-22T10:17:18.102810Z"
    },
    "papermill": {
     "duration": 0.022017,
     "end_time": "2024-12-22T10:17:18.104742",
     "exception": false,
     "start_time": "2024-12-22T10:17:18.082725",
     "status": "completed"
    },
    "tags": []
   },
   "outputs": [
    {
     "data": {
      "text/plain": [
       "DatasetDict({\n",
       "    train: Dataset({\n",
       "        features: ['full_text', 'document', 'tokens', 'trailing_whitespace', 'provided_labels', 'input_ids', 'token_type_ids', 'attention_mask', 'offset_mapping', 'labels', 'length', 'target_num', 'group'],\n",
       "        num_rows: 5445\n",
       "    })\n",
       "    test: Dataset({\n",
       "        features: ['full_text', 'document', 'tokens', 'trailing_whitespace', 'provided_labels', 'input_ids', 'token_type_ids', 'attention_mask', 'offset_mapping', 'labels', 'length', 'target_num', 'group'],\n",
       "        num_rows: 1362\n",
       "    })\n",
       "})"
      ]
     },
     "execution_count": 17,
     "metadata": {},
     "output_type": "execute_result"
    }
   ],
   "source": [
    "# may want to try to balance classes in splits\n",
    "final_ds = ds.train_test_split(test_size=0.2, seed=42) # cannot use stratify_by_column='group'\n",
    "final_ds"
   ]
  },
  {
   "cell_type": "code",
   "execution_count": 18,
   "id": "2e0852cd",
   "metadata": {
    "execution": {
     "iopub.execute_input": "2024-12-22T10:17:18.117235Z",
     "iopub.status.busy": "2024-12-22T10:17:18.117017Z",
     "iopub.status.idle": "2024-12-22T10:17:18.671282Z",
     "shell.execute_reply": "2024-12-22T10:17:18.670572Z"
    },
    "papermill": {
     "duration": 0.562238,
     "end_time": "2024-12-22T10:17:18.672916",
     "exception": false,
     "start_time": "2024-12-22T10:17:18.110678",
     "status": "completed"
    },
    "tags": []
   },
   "outputs": [
    {
     "name": "stderr",
     "output_type": "stream",
     "text": [
      "/usr/local/lib/python3.10/dist-packages/accelerate/accelerator.py:494: FutureWarning: `torch.cuda.amp.GradScaler(args...)` is deprecated. Please use `torch.amp.GradScaler('cuda', args...)` instead.\n",
      "  self.scaler = torch.cuda.amp.GradScaler(**kwargs)\n"
     ]
    }
   ],
   "source": [
    "args = TrainingArguments(\n",
    "    output_dir=OUTPUT_DIR, \n",
    "    fp16=True,\n",
    "    #warmup_steps=100,\n",
    "    learning_rate=2e-5,\n",
    "    num_train_epochs=3,\n",
    "    per_device_train_batch_size=4,\n",
    "    per_device_eval_batch_size=8,\n",
    "    report_to=\"none\",\n",
    "    eval_strategy=\"epoch\",\n",
    "    save_strategy=\"epoch\",\n",
    "    save_total_limit=1,\n",
    "    overwrite_output_dir=True,\n",
    "    load_best_model_at_end=True,\n",
    "    lr_scheduler_type='cosine',\n",
    "    metric_for_best_model=\"f1\",\n",
    "    greater_is_better=True,\n",
    "    weight_decay=0.01\n",
    ")\n",
    "trainer = Trainer(\n",
    "    model=model, \n",
    "    args=args, \n",
    "    train_dataset=final_ds[\"train\"], \n",
    "    eval_dataset=final_ds[\"test\"], \n",
    "    data_collator=collator, \n",
    "    tokenizer=tokenizer,\n",
    "    compute_metrics=partial(compute_metrics, all_labels=all_labels),\n",
    ")"
   ]
  },
  {
   "cell_type": "code",
   "execution_count": 19,
   "id": "bc92494a",
   "metadata": {
    "execution": {
     "iopub.execute_input": "2024-12-22T10:17:18.685903Z",
     "iopub.status.busy": "2024-12-22T10:17:18.685633Z",
     "iopub.status.idle": "2024-12-22T11:02:38.694793Z",
     "shell.execute_reply": "2024-12-22T11:02:38.694049Z"
    },
    "papermill": {
     "duration": 2720.016854,
     "end_time": "2024-12-22T11:02:38.696086",
     "exception": false,
     "start_time": "2024-12-22T10:17:18.679232",
     "status": "completed"
    },
    "tags": []
   },
   "outputs": [
    {
     "name": "stderr",
     "output_type": "stream",
     "text": [
      "/usr/local/lib/python3.10/dist-packages/torch/nn/parallel/_functions.py:68: UserWarning: Was asked to gather along dimension 0, but all input tensors were scalars; will instead unsqueeze and return a vector.\n",
      "  warnings.warn('Was asked to gather along dimension 0, but all '\n"
     ]
    },
    {
     "data": {
      "text/html": [
       "\n",
       "    <div>\n",
       "      \n",
       "      <progress value='2043' max='2043' style='width:300px; height:20px; vertical-align: middle;'></progress>\n",
       "      [2043/2043 45:16, Epoch 3/3]\n",
       "    </div>\n",
       "    <table border=\"1\" class=\"dataframe\">\n",
       "  <thead>\n",
       " <tr style=\"text-align: left;\">\n",
       "      <th>Epoch</th>\n",
       "      <th>Training Loss</th>\n",
       "      <th>Validation Loss</th>\n",
       "      <th>Recall</th>\n",
       "      <th>Precision</th>\n",
       "      <th>F1</th>\n",
       "    </tr>\n",
       "  </thead>\n",
       "  <tbody>\n",
       "    <tr>\n",
       "      <td>1</td>\n",
       "      <td>0.028600</td>\n",
       "      <td>0.006019</td>\n",
       "      <td>0.697757</td>\n",
       "      <td>0.810700</td>\n",
       "      <td>0.701516</td>\n",
       "    </tr>\n",
       "    <tr>\n",
       "      <td>2</td>\n",
       "      <td>0.003000</td>\n",
       "      <td>0.006057</td>\n",
       "      <td>0.736718</td>\n",
       "      <td>0.723059</td>\n",
       "      <td>0.736183</td>\n",
       "    </tr>\n",
       "    <tr>\n",
       "      <td>3</td>\n",
       "      <td>0.001700</td>\n",
       "      <td>0.005858</td>\n",
       "      <td>0.731995</td>\n",
       "      <td>0.812582</td>\n",
       "      <td>0.734798</td>\n",
       "    </tr>\n",
       "  </tbody>\n",
       "</table><p>"
      ],
      "text/plain": [
       "<IPython.core.display.HTML object>"
      ]
     },
     "metadata": {},
     "output_type": "display_data"
    },
    {
     "name": "stderr",
     "output_type": "stream",
     "text": [
      "/usr/local/lib/python3.10/dist-packages/torch/nn/parallel/_functions.py:68: UserWarning: Was asked to gather along dimension 0, but all input tensors were scalars; will instead unsqueeze and return a vector.\n",
      "  warnings.warn('Was asked to gather along dimension 0, but all '\n",
      "/usr/local/lib/python3.10/dist-packages/torch/nn/parallel/_functions.py:68: UserWarning: Was asked to gather along dimension 0, but all input tensors were scalars; will instead unsqueeze and return a vector.\n",
      "  warnings.warn('Was asked to gather along dimension 0, but all '\n",
      "/usr/local/lib/python3.10/dist-packages/torch/nn/parallel/_functions.py:68: UserWarning: Was asked to gather along dimension 0, but all input tensors were scalars; will instead unsqueeze and return a vector.\n",
      "  warnings.warn('Was asked to gather along dimension 0, but all '\n"
     ]
    },
    {
     "name": "stdout",
     "output_type": "stream",
     "text": [
      "CPU times: user 46min 20s, sys: 13min 33s, total: 59min 53s\n",
      "Wall time: 45min 20s\n"
     ]
    },
    {
     "data": {
      "text/plain": [
       "TrainOutput(global_step=2043, training_loss=0.008766521091153093, metrics={'train_runtime': 2718.9865, 'train_samples_per_second': 6.008, 'train_steps_per_second': 0.751, 'total_flos': 5999841685181088.0, 'train_loss': 0.008766521091153093, 'epoch': 3.0})"
      ]
     },
     "execution_count": 19,
     "metadata": {},
     "output_type": "execute_result"
    }
   ],
   "source": [
    "%%time\n",
    "trainer.train()"
   ]
  },
  {
   "cell_type": "code",
   "execution_count": 20,
   "id": "58ef29cc",
   "metadata": {
    "execution": {
     "iopub.execute_input": "2024-12-22T11:02:38.710630Z",
     "iopub.status.busy": "2024-12-22T11:02:38.710278Z",
     "iopub.status.idle": "2024-12-22T11:02:40.672938Z",
     "shell.execute_reply": "2024-12-22T11:02:40.670774Z"
    },
    "papermill": {
     "duration": 1.971981,
     "end_time": "2024-12-22T11:02:40.675010",
     "exception": false,
     "start_time": "2024-12-22T11:02:38.703029",
     "status": "completed"
    },
    "tags": []
   },
   "outputs": [],
   "source": [
    "trainer.save_model(OUTPUT_DIR)\n",
    "torch.cuda.empty_cache()"
   ]
  },
  {
   "cell_type": "code",
   "execution_count": 21,
   "id": "b478cd70",
   "metadata": {
    "execution": {
     "iopub.execute_input": "2024-12-22T11:02:40.689765Z",
     "iopub.status.busy": "2024-12-22T11:02:40.689484Z",
     "iopub.status.idle": "2024-12-22T11:02:40.693496Z",
     "shell.execute_reply": "2024-12-22T11:02:40.692581Z"
    },
    "papermill": {
     "duration": 0.012946,
     "end_time": "2024-12-22T11:02:40.694865",
     "exception": false,
     "start_time": "2024-12-22T11:02:40.681919",
     "status": "completed"
    },
    "tags": []
   },
   "outputs": [],
   "source": [
    "import json\n",
    "import argparse\n",
    "from itertools import chain\n",
    "import pandas as pd\n",
    "from pathlib import Path\n",
    "from transformers import AutoTokenizer, AutoModelForTokenClassification, Trainer, TrainingArguments, DataCollatorForTokenClassification\n",
    "from datasets import Dataset\n",
    "import numpy as np"
   ]
  },
  {
   "cell_type": "markdown",
   "id": "7a2a0ec5",
   "metadata": {
    "papermill": {
     "duration": 0.006178,
     "end_time": "2024-12-22T11:02:40.707564",
     "exception": false,
     "start_time": "2024-12-22T11:02:40.701386",
     "status": "completed"
    },
    "tags": []
   },
   "source": [
    "Inference"
   ]
  },
  {
   "cell_type": "code",
   "execution_count": 22,
   "id": "13c23d69",
   "metadata": {
    "execution": {
     "iopub.execute_input": "2024-12-22T11:02:40.721076Z",
     "iopub.status.busy": "2024-12-22T11:02:40.720792Z",
     "iopub.status.idle": "2024-12-22T11:02:40.724093Z",
     "shell.execute_reply": "2024-12-22T11:02:40.723290Z"
    },
    "papermill": {
     "duration": 0.011392,
     "end_time": "2024-12-22T11:02:40.725277",
     "exception": false,
     "start_time": "2024-12-22T11:02:40.713885",
     "status": "completed"
    },
    "tags": []
   },
   "outputs": [],
   "source": [
    "INFERENCE_MAX_LENGTH = 720\n",
    "model_path = '/kaggle/working/output'"
   ]
  },
  {
   "cell_type": "code",
   "execution_count": 23,
   "id": "44888901",
   "metadata": {
    "execution": {
     "iopub.execute_input": "2024-12-22T11:02:40.739762Z",
     "iopub.status.busy": "2024-12-22T11:02:40.739521Z",
     "iopub.status.idle": "2024-12-22T11:02:40.744067Z",
     "shell.execute_reply": "2024-12-22T11:02:40.743260Z"
    },
    "papermill": {
     "duration": 0.012784,
     "end_time": "2024-12-22T11:02:40.745277",
     "exception": false,
     "start_time": "2024-12-22T11:02:40.732493",
     "status": "completed"
    },
    "tags": []
   },
   "outputs": [],
   "source": [
    "def tokenize(example, tokenizer):\n",
    "    text = []\n",
    "    token_map = []\n",
    "    \n",
    "    idx = 0\n",
    "    \n",
    "    for t, ws in zip(example[\"tokens\"], example[\"trailing_whitespace\"]):\n",
    "        \n",
    "        text.append(t)\n",
    "        token_map.extend([idx]*len(t))\n",
    "        if ws:\n",
    "            text.append(\" \")\n",
    "            token_map.append(-1)\n",
    "            \n",
    "        idx += 1\n",
    "        \n",
    "        \n",
    "    tokenized = tokenizer(\"\".join(text), return_offsets_mapping=True, truncation=True, max_length=INFERENCE_MAX_LENGTH)\n",
    "    \n",
    "        \n",
    "    return {\n",
    "        **tokenized,\n",
    "        \"token_map\": token_map,\n",
    "    }"
   ]
  },
  {
   "cell_type": "code",
   "execution_count": 24,
   "id": "941682f9",
   "metadata": {
    "execution": {
     "iopub.execute_input": "2024-12-22T11:02:40.759163Z",
     "iopub.status.busy": "2024-12-22T11:02:40.758926Z",
     "iopub.status.idle": "2024-12-22T11:02:42.472171Z",
     "shell.execute_reply": "2024-12-22T11:02:42.471358Z"
    },
    "papermill": {
     "duration": 1.722097,
     "end_time": "2024-12-22T11:02:42.473898",
     "exception": false,
     "start_time": "2024-12-22T11:02:40.751801",
     "status": "completed"
    },
    "tags": []
   },
   "outputs": [
    {
     "name": "stderr",
     "output_type": "stream",
     "text": [
      "/usr/local/lib/python3.10/dist-packages/multiprocess/popen_fork.py:66: RuntimeWarning: os.fork() was called. os.fork() is incompatible with multithreaded code, and JAX is multithreaded, so this will likely lead to a deadlock.\n",
      "  self.pid = os.fork()\n"
     ]
    },
    {
     "data": {
      "application/vnd.jupyter.widget-view+json": {
       "model_id": "852f0b0e1f2b40c59a986e7789c43c0b",
       "version_major": 2,
       "version_minor": 0
      },
      "text/plain": [
       "Map (num_proc=2):   0%|          | 0/10 [00:00<?, ? examples/s]"
      ]
     },
     "metadata": {},
     "output_type": "display_data"
    },
    {
     "name": "stderr",
     "output_type": "stream",
     "text": [
      "/usr/local/lib/python3.10/dist-packages/accelerate/accelerator.py:494: FutureWarning: `torch.cuda.amp.GradScaler(args...)` is deprecated. Please use `torch.amp.GradScaler('cuda', args...)` instead.\n",
      "  self.scaler = torch.cuda.amp.GradScaler(**kwargs)\n"
     ]
    }
   ],
   "source": [
    "data = json.load(open(\"/kaggle/input/pii-detection-removal-from-educational-data/test.json\"))\n",
    "\n",
    "ds = Dataset.from_dict({\n",
    "    \"full_text\": [x[\"full_text\"] for x in data],\n",
    "    \"document\": [x[\"document\"] for x in data],\n",
    "    \"tokens\": [x[\"tokens\"] for x in data],\n",
    "    \"trailing_whitespace\": [x[\"trailing_whitespace\"] for x in data],\n",
    "})\n",
    "\n",
    "tokenizer = AutoTokenizer.from_pretrained(model_path)\n",
    "model = AutoModelForTokenClassification.from_pretrained(model_path)\n",
    "\n",
    "ds = ds.map(tokenize, fn_kwargs={\"tokenizer\": tokenizer}, num_proc=2)\n",
    "collator = DataCollatorForTokenClassification(tokenizer, pad_to_multiple_of=16)\n",
    "\n",
    "args = TrainingArguments(\n",
    "    \".\", \n",
    "    per_device_eval_batch_size=4, \n",
    "    report_to=\"none\",\n",
    ")\n",
    "trainer = Trainer(\n",
    "    model=model, \n",
    "    args=args, \n",
    "    data_collator=collator, \n",
    "    tokenizer=tokenizer,\n",
    ")\n"
   ]
  },
  {
   "cell_type": "code",
   "execution_count": 25,
   "id": "0b040ad9",
   "metadata": {
    "execution": {
     "iopub.execute_input": "2024-12-22T11:02:42.488776Z",
     "iopub.status.busy": "2024-12-22T11:02:42.488469Z",
     "iopub.status.idle": "2024-12-22T11:02:43.137680Z",
     "shell.execute_reply": "2024-12-22T11:02:43.136954Z"
    },
    "papermill": {
     "duration": 0.658027,
     "end_time": "2024-12-22T11:02:43.139094",
     "exception": false,
     "start_time": "2024-12-22T11:02:42.481067",
     "status": "completed"
    },
    "tags": []
   },
   "outputs": [
    {
     "data": {
      "text/html": [],
      "text/plain": [
       "<IPython.core.display.HTML object>"
      ]
     },
     "metadata": {},
     "output_type": "display_data"
    }
   ],
   "source": [
    "predictions = trainer.predict(ds).predictions"
   ]
  },
  {
   "cell_type": "code",
   "execution_count": 26,
   "id": "2596eef5",
   "metadata": {
    "execution": {
     "iopub.execute_input": "2024-12-22T11:02:43.155013Z",
     "iopub.status.busy": "2024-12-22T11:02:43.154740Z",
     "iopub.status.idle": "2024-12-22T11:02:43.158707Z",
     "shell.execute_reply": "2024-12-22T11:02:43.158130Z"
    },
    "papermill": {
     "duration": 0.012626,
     "end_time": "2024-12-22T11:02:43.159815",
     "exception": false,
     "start_time": "2024-12-22T11:02:43.147189",
     "status": "completed"
    },
    "tags": []
   },
   "outputs": [],
   "source": [
    "config = json.load(open(Path(model_path) / \"config.json\"))\n",
    "id2label = config[\"id2label\"]\n",
    "preds = predictions.argmax(-1)"
   ]
  },
  {
   "cell_type": "code",
   "execution_count": 27,
   "id": "89000b17",
   "metadata": {
    "execution": {
     "iopub.execute_input": "2024-12-22T11:02:43.175935Z",
     "iopub.status.busy": "2024-12-22T11:02:43.175525Z",
     "iopub.status.idle": "2024-12-22T11:02:43.180088Z",
     "shell.execute_reply": "2024-12-22T11:02:43.179250Z"
    },
    "papermill": {
     "duration": 0.013865,
     "end_time": "2024-12-22T11:02:43.181285",
     "exception": false,
     "start_time": "2024-12-22T11:02:43.167420",
     "status": "completed"
    },
    "tags": []
   },
   "outputs": [
    {
     "name": "stdout",
     "output_type": "stream",
     "text": [
      "Storytelling  The Path to Innovation\n",
      "\n",
      "Dr Sakir Ahmad\n",
      "\n",
      "Challenge & Selection\n",
      "\n",
      "Be it any organization, team or a government venture, I have often observed that they experience  failures because they couldn’t connect with their audience aptly. In such scenarios, storytelling  can turn the table significantly. I have used the tool ‘storytelling’ in my organization to convey a  complicated message as simply as possible or to generate ideas from people around me. The idea  is to implement this innovative tool to make the intricate issues understandable and engage the  targeted audience. I relayed the context of the story to captivate the attention of the audience. I  have used the technique in front of my team-members of the organization to impart its essence,  brainstorm notions, make productive connections and develop appropriate strategies. The crucial  element in storytelling is to engagingly answer the questions raised in the story to its targeted  audience and allow them to resonate with the core subject of the story. When I shared the story, I  tried to gain the insights from the audience as to how the characters inspire them and how it  related to their work emotions. The information and feedback immensely helped me in  recognizing its importance in finding solutions in real world.\n",
      "\n",
      "Application\n",
      "\n",
      "I used the storytelling tool in an organizational meeting to help the team members visualize the  essence and impact of revolutionary thinking. I understood that the story has to make sense so  that they can comprehend the context and relate with it. I started the story of the time when there  was an emergence of deadly diseases due to mosquitoes i.e. malaria etc. and a company brought  a revolution by introducing a range of mosquito repellent products. I emphasized on its out-of- the box thinking & ideas that made the brand conquer the market. I observed that my audience  were sincerely engaged and were emotionally connected with the company. After I finished, there  were questions and productive interactions which exhibited that they relate it with their ongoing  project. The enthusiasm of thinking afresh was quite overwhelming.\n",
      "\n",
      "Insight & Approach\n",
      "\n",
      "When I analysed the whole series of events it made me wonder, “Did my tool work? The answer I  think is ‘YES’. Will it serve the purpose? I think that time will tell but I believe it will certainly aid  them in making apt strategies.”\n",
      "\n",
      "The exercise portrayed that a revolutionary story can influence a small number of people then  storytelling as a design-thinking tool, if implemented efficiently, can bring ground-breaking  changes in organizations & countries. I observed that my story engaged my targeted audience,  inspired them to think new and deliver better results.\n",
      "\n",
      "As a student of design thinking, I can explore this tool from all corners and can confidently say  that I can creatively use it in number of inspiring ways at any appropriate phase of design thinking  activities.\n",
      "\n",
      "\n"
     ]
    }
   ],
   "source": [
    "# glance over a sample text\n",
    "print(ds[\"full_text\"][-3])"
   ]
  },
  {
   "cell_type": "code",
   "execution_count": 28,
   "id": "270fe2ff",
   "metadata": {
    "execution": {
     "iopub.execute_input": "2024-12-22T11:02:43.196374Z",
     "iopub.status.busy": "2024-12-22T11:02:43.196166Z",
     "iopub.status.idle": "2024-12-22T11:02:43.248532Z",
     "shell.execute_reply": "2024-12-22T11:02:43.247717Z"
    },
    "papermill": {
     "duration": 0.061531,
     "end_time": "2024-12-22T11:02:43.249898",
     "exception": false,
     "start_time": "2024-12-22T11:02:43.188367",
     "status": "completed"
    },
    "tags": []
   },
   "outputs": [],
   "source": [
    "triplets = []\n",
    "document, token, label, token_str = [], [], [], []\n",
    "for p, token_map, offsets, tokens, doc in zip(preds, ds[\"token_map\"], ds[\"offset_mapping\"], ds[\"tokens\"], ds[\"document\"]):\n",
    "\n",
    "    for token_pred, (start_idx, end_idx) in zip(p, offsets):\n",
    "        label_pred = id2label[str(token_pred)]\n",
    "\n",
    "        if start_idx + end_idx == 0: continue\n",
    "\n",
    "        if token_map[start_idx] == -1:\n",
    "            start_idx += 1\n",
    "\n",
    "        # ignore \"\\n\\n\"\n",
    "        while start_idx < len(token_map) and tokens[token_map[start_idx]].isspace():\n",
    "            start_idx += 1\n",
    "\n",
    "        if start_idx >= len(token_map): break\n",
    "\n",
    "        token_id = token_map[start_idx]\n",
    "\n",
    "        # ignore \"O\" predictions and whitespace preds\n",
    "        if label_pred != \"O\" and token_id != -1:\n",
    "            triplet = (label_pred, token_id, tokens[token_id])\n",
    "\n",
    "            if triplet not in triplets:\n",
    "                document.append(doc)\n",
    "                token.append(token_id)\n",
    "                label.append(label_pred)\n",
    "                token_str.append(tokens[token_id])\n",
    "                triplets.append(triplet)"
   ]
  },
  {
   "cell_type": "code",
   "execution_count": 29,
   "id": "470d83b4",
   "metadata": {
    "execution": {
     "iopub.execute_input": "2024-12-22T11:02:43.264944Z",
     "iopub.status.busy": "2024-12-22T11:02:43.264688Z",
     "iopub.status.idle": "2024-12-22T11:02:43.319510Z",
     "shell.execute_reply": "2024-12-22T11:02:43.318684Z"
    },
    "papermill": {
     "duration": 0.063647,
     "end_time": "2024-12-22T11:02:43.320764",
     "exception": false,
     "start_time": "2024-12-22T11:02:43.257117",
     "status": "completed"
    },
    "tags": []
   },
   "outputs": [
    {
     "data": {
      "text/html": [
       "<div>\n",
       "<style scoped>\n",
       "    .dataframe tbody tr th:only-of-type {\n",
       "        vertical-align: middle;\n",
       "    }\n",
       "\n",
       "    .dataframe tbody tr th {\n",
       "        vertical-align: top;\n",
       "    }\n",
       "\n",
       "    .dataframe thead th {\n",
       "        text-align: right;\n",
       "    }\n",
       "</style>\n",
       "<table border=\"1\" class=\"dataframe\">\n",
       "  <thead>\n",
       "    <tr style=\"text-align: right;\">\n",
       "      <th></th>\n",
       "      <th>document</th>\n",
       "      <th>token</th>\n",
       "      <th>label</th>\n",
       "      <th>token_str</th>\n",
       "      <th>row_id</th>\n",
       "    </tr>\n",
       "  </thead>\n",
       "  <tbody>\n",
       "    <tr>\n",
       "      <th>0</th>\n",
       "      <td>7</td>\n",
       "      <td>9</td>\n",
       "      <td>B-NAME_STUDENT</td>\n",
       "      <td>Nathalie</td>\n",
       "      <td>0</td>\n",
       "    </tr>\n",
       "    <tr>\n",
       "      <th>1</th>\n",
       "      <td>7</td>\n",
       "      <td>10</td>\n",
       "      <td>I-NAME_STUDENT</td>\n",
       "      <td>Sylla</td>\n",
       "      <td>1</td>\n",
       "    </tr>\n",
       "    <tr>\n",
       "      <th>2</th>\n",
       "      <td>7</td>\n",
       "      <td>482</td>\n",
       "      <td>B-NAME_STUDENT</td>\n",
       "      <td>Nathalie</td>\n",
       "      <td>2</td>\n",
       "    </tr>\n",
       "    <tr>\n",
       "      <th>3</th>\n",
       "      <td>7</td>\n",
       "      <td>483</td>\n",
       "      <td>I-NAME_STUDENT</td>\n",
       "      <td>Sylla</td>\n",
       "      <td>3</td>\n",
       "    </tr>\n",
       "    <tr>\n",
       "      <th>4</th>\n",
       "      <td>7</td>\n",
       "      <td>741</td>\n",
       "      <td>B-NAME_STUDENT</td>\n",
       "      <td>Nathalie</td>\n",
       "      <td>4</td>\n",
       "    </tr>\n",
       "    <tr>\n",
       "      <th>5</th>\n",
       "      <td>7</td>\n",
       "      <td>742</td>\n",
       "      <td>I-NAME_STUDENT</td>\n",
       "      <td>Sylla</td>\n",
       "      <td>5</td>\n",
       "    </tr>\n",
       "    <tr>\n",
       "      <th>6</th>\n",
       "      <td>10</td>\n",
       "      <td>0</td>\n",
       "      <td>B-NAME_STUDENT</td>\n",
       "      <td>Diego</td>\n",
       "      <td>6</td>\n",
       "    </tr>\n",
       "    <tr>\n",
       "      <th>7</th>\n",
       "      <td>10</td>\n",
       "      <td>1</td>\n",
       "      <td>I-NAME_STUDENT</td>\n",
       "      <td>Estrada</td>\n",
       "      <td>7</td>\n",
       "    </tr>\n",
       "    <tr>\n",
       "      <th>8</th>\n",
       "      <td>10</td>\n",
       "      <td>464</td>\n",
       "      <td>B-NAME_STUDENT</td>\n",
       "      <td>Diego</td>\n",
       "      <td>8</td>\n",
       "    </tr>\n",
       "    <tr>\n",
       "      <th>9</th>\n",
       "      <td>10</td>\n",
       "      <td>465</td>\n",
       "      <td>I-NAME_STUDENT</td>\n",
       "      <td>Estrada</td>\n",
       "      <td>9</td>\n",
       "    </tr>\n",
       "    <tr>\n",
       "      <th>10</th>\n",
       "      <td>16</td>\n",
       "      <td>4</td>\n",
       "      <td>B-NAME_STUDENT</td>\n",
       "      <td>Gilberto</td>\n",
       "      <td>10</td>\n",
       "    </tr>\n",
       "    <tr>\n",
       "      <th>11</th>\n",
       "      <td>16</td>\n",
       "      <td>5</td>\n",
       "      <td>I-NAME_STUDENT</td>\n",
       "      <td>Gamboa</td>\n",
       "      <td>11</td>\n",
       "    </tr>\n",
       "    <tr>\n",
       "      <th>12</th>\n",
       "      <td>20</td>\n",
       "      <td>5</td>\n",
       "      <td>B-NAME_STUDENT</td>\n",
       "      <td>Sindy</td>\n",
       "      <td>12</td>\n",
       "    </tr>\n",
       "    <tr>\n",
       "      <th>13</th>\n",
       "      <td>20</td>\n",
       "      <td>6</td>\n",
       "      <td>I-NAME_STUDENT</td>\n",
       "      <td>Samaca</td>\n",
       "      <td>13</td>\n",
       "    </tr>\n",
       "    <tr>\n",
       "      <th>14</th>\n",
       "      <td>56</td>\n",
       "      <td>12</td>\n",
       "      <td>B-NAME_STUDENT</td>\n",
       "      <td>Nadine</td>\n",
       "      <td>14</td>\n",
       "    </tr>\n",
       "    <tr>\n",
       "      <th>15</th>\n",
       "      <td>56</td>\n",
       "      <td>13</td>\n",
       "      <td>I-NAME_STUDENT</td>\n",
       "      <td>Born</td>\n",
       "      <td>15</td>\n",
       "    </tr>\n",
       "    <tr>\n",
       "      <th>16</th>\n",
       "      <td>86</td>\n",
       "      <td>6</td>\n",
       "      <td>B-NAME_STUDENT</td>\n",
       "      <td>Eladio</td>\n",
       "      <td>16</td>\n",
       "    </tr>\n",
       "    <tr>\n",
       "      <th>17</th>\n",
       "      <td>86</td>\n",
       "      <td>7</td>\n",
       "      <td>I-NAME_STUDENT</td>\n",
       "      <td>Amaya</td>\n",
       "      <td>17</td>\n",
       "    </tr>\n",
       "    <tr>\n",
       "      <th>18</th>\n",
       "      <td>93</td>\n",
       "      <td>0</td>\n",
       "      <td>B-NAME_STUDENT</td>\n",
       "      <td>Silvia</td>\n",
       "      <td>18</td>\n",
       "    </tr>\n",
       "    <tr>\n",
       "      <th>19</th>\n",
       "      <td>93</td>\n",
       "      <td>1</td>\n",
       "      <td>I-NAME_STUDENT</td>\n",
       "      <td>Villalobos</td>\n",
       "      <td>19</td>\n",
       "    </tr>\n",
       "    <tr>\n",
       "      <th>20</th>\n",
       "      <td>104</td>\n",
       "      <td>7</td>\n",
       "      <td>B-NAME_STUDENT</td>\n",
       "      <td>Dr</td>\n",
       "      <td>20</td>\n",
       "    </tr>\n",
       "    <tr>\n",
       "      <th>21</th>\n",
       "      <td>104</td>\n",
       "      <td>8</td>\n",
       "      <td>B-NAME_STUDENT</td>\n",
       "      <td>Sakir</td>\n",
       "      <td>21</td>\n",
       "    </tr>\n",
       "    <tr>\n",
       "      <th>22</th>\n",
       "      <td>104</td>\n",
       "      <td>9</td>\n",
       "      <td>I-NAME_STUDENT</td>\n",
       "      <td>Ahmad</td>\n",
       "      <td>22</td>\n",
       "    </tr>\n",
       "    <tr>\n",
       "      <th>23</th>\n",
       "      <td>112</td>\n",
       "      <td>5</td>\n",
       "      <td>B-NAME_STUDENT</td>\n",
       "      <td>Francisco</td>\n",
       "      <td>23</td>\n",
       "    </tr>\n",
       "    <tr>\n",
       "      <th>24</th>\n",
       "      <td>112</td>\n",
       "      <td>6</td>\n",
       "      <td>I-NAME_STUDENT</td>\n",
       "      <td>Ferreira</td>\n",
       "      <td>24</td>\n",
       "    </tr>\n",
       "    <tr>\n",
       "      <th>25</th>\n",
       "      <td>123</td>\n",
       "      <td>32</td>\n",
       "      <td>B-NAME_STUDENT</td>\n",
       "      <td>Stefano</td>\n",
       "      <td>25</td>\n",
       "    </tr>\n",
       "    <tr>\n",
       "      <th>26</th>\n",
       "      <td>123</td>\n",
       "      <td>33</td>\n",
       "      <td>I-NAME_STUDENT</td>\n",
       "      <td>Lovato</td>\n",
       "      <td>26</td>\n",
       "    </tr>\n",
       "  </tbody>\n",
       "</table>\n",
       "</div>"
      ],
      "text/plain": [
       "    document  token           label   token_str  row_id\n",
       "0          7      9  B-NAME_STUDENT    Nathalie       0\n",
       "1          7     10  I-NAME_STUDENT       Sylla       1\n",
       "2          7    482  B-NAME_STUDENT    Nathalie       2\n",
       "3          7    483  I-NAME_STUDENT       Sylla       3\n",
       "4          7    741  B-NAME_STUDENT    Nathalie       4\n",
       "5          7    742  I-NAME_STUDENT       Sylla       5\n",
       "6         10      0  B-NAME_STUDENT       Diego       6\n",
       "7         10      1  I-NAME_STUDENT     Estrada       7\n",
       "8         10    464  B-NAME_STUDENT       Diego       8\n",
       "9         10    465  I-NAME_STUDENT     Estrada       9\n",
       "10        16      4  B-NAME_STUDENT    Gilberto      10\n",
       "11        16      5  I-NAME_STUDENT      Gamboa      11\n",
       "12        20      5  B-NAME_STUDENT       Sindy      12\n",
       "13        20      6  I-NAME_STUDENT      Samaca      13\n",
       "14        56     12  B-NAME_STUDENT      Nadine      14\n",
       "15        56     13  I-NAME_STUDENT        Born      15\n",
       "16        86      6  B-NAME_STUDENT      Eladio      16\n",
       "17        86      7  I-NAME_STUDENT       Amaya      17\n",
       "18        93      0  B-NAME_STUDENT      Silvia      18\n",
       "19        93      1  I-NAME_STUDENT  Villalobos      19\n",
       "20       104      7  B-NAME_STUDENT          Dr      20\n",
       "21       104      8  B-NAME_STUDENT       Sakir      21\n",
       "22       104      9  I-NAME_STUDENT       Ahmad      22\n",
       "23       112      5  B-NAME_STUDENT   Francisco      23\n",
       "24       112      6  I-NAME_STUDENT    Ferreira      24\n",
       "25       123     32  B-NAME_STUDENT     Stefano      25\n",
       "26       123     33  I-NAME_STUDENT      Lovato      26"
      ]
     },
     "metadata": {},
     "output_type": "display_data"
    }
   ],
   "source": [
    "df = pd.DataFrame({\n",
    "    \"document\": document,\n",
    "    \"token\": token,\n",
    "    \"label\": label,\n",
    "    \"token_str\": token_str\n",
    "})\n",
    "df[\"row_id\"] = list(range(len(df)))\n",
    "display(df.head(100))"
   ]
  },
  {
   "cell_type": "code",
   "execution_count": 30,
   "id": "ea375c03",
   "metadata": {
    "execution": {
     "iopub.execute_input": "2024-12-22T11:02:43.336435Z",
     "iopub.status.busy": "2024-12-22T11:02:43.336216Z",
     "iopub.status.idle": "2024-12-22T11:02:43.359091Z",
     "shell.execute_reply": "2024-12-22T11:02:43.358451Z"
    },
    "papermill": {
     "duration": 0.031986,
     "end_time": "2024-12-22T11:02:43.360197",
     "exception": false,
     "start_time": "2024-12-22T11:02:43.328211",
     "status": "completed"
    },
    "tags": []
   },
   "outputs": [],
   "source": [
    "df[[\"row_id\", \"document\", \"token\", \"label\"]].to_csv(\"submission.csv\", index=False)"
   ]
  },
  {
   "cell_type": "code",
   "execution_count": null,
   "id": "e376d096",
   "metadata": {
    "papermill": {
     "duration": 0.007133,
     "end_time": "2024-12-22T11:02:43.374604",
     "exception": false,
     "start_time": "2024-12-22T11:02:43.367471",
     "status": "completed"
    },
    "tags": []
   },
   "outputs": [],
   "source": []
  }
 ],
 "metadata": {
  "kaggle": {
   "accelerator": "nvidiaTeslaT4",
   "dataSources": [
    {
     "databundleVersionId": 7500999,
     "sourceId": 66653,
     "sourceType": "competition"
    },
    {
     "datasetId": 2210196,
     "sourceId": 3693646,
     "sourceType": "datasetVersion"
    }
   ],
   "dockerImageVersionId": 30823,
   "isGpuEnabled": true,
   "isInternetEnabled": false,
   "language": "python",
   "sourceType": "notebook"
  },
  "kernelspec": {
   "display_name": "Python 3",
   "language": "python",
   "name": "python3"
  },
  "language_info": {
   "codemirror_mode": {
    "name": "ipython",
    "version": 3
   },
   "file_extension": ".py",
   "mimetype": "text/x-python",
   "name": "python",
   "nbconvert_exporter": "python",
   "pygments_lexer": "ipython3",
   "version": "3.10.12"
  },
  "papermill": {
   "default_parameters": {},
   "duration": 2796.050003,
   "end_time": "2024-12-22T11:02:47.169695",
   "environment_variables": {},
   "exception": null,
   "input_path": "__notebook__.ipynb",
   "output_path": "__notebook__.ipynb",
   "parameters": {},
   "start_time": "2024-12-22T10:16:11.119692",
   "version": "2.6.0"
  },
  "widgets": {
   "application/vnd.jupyter.widget-state+json": {
    "state": {
     "04579b8e31a647aaa5e160e74e97a936": {
      "model_module": "@jupyter-widgets/base",
      "model_module_version": "2.0.0",
      "model_name": "LayoutModel",
      "state": {
       "_model_module": "@jupyter-widgets/base",
       "_model_module_version": "2.0.0",
       "_model_name": "LayoutModel",
       "_view_count": null,
       "_view_module": "@jupyter-widgets/base",
       "_view_module_version": "2.0.0",
       "_view_name": "LayoutView",
       "align_content": null,
       "align_items": null,
       "align_self": null,
       "border_bottom": null,
       "border_left": null,
       "border_right": null,
       "border_top": null,
       "bottom": null,
       "display": null,
       "flex": null,
       "flex_flow": null,
       "grid_area": null,
       "grid_auto_columns": null,
       "grid_auto_flow": null,
       "grid_auto_rows": null,
       "grid_column": null,
       "grid_gap": null,
       "grid_row": null,
       "grid_template_areas": null,
       "grid_template_columns": null,
       "grid_template_rows": null,
       "height": null,
       "justify_content": null,
       "justify_items": null,
       "left": null,
       "margin": null,
       "max_height": null,
       "max_width": null,
       "min_height": null,
       "min_width": null,
       "object_fit": null,
       "object_position": null,
       "order": null,
       "overflow": null,
       "padding": null,
       "right": null,
       "top": null,
       "visibility": null,
       "width": null
      }
     },
     "187823a922be4114a2cebb7cfcf06501": {
      "model_module": "@jupyter-widgets/base",
      "model_module_version": "2.0.0",
      "model_name": "LayoutModel",
      "state": {
       "_model_module": "@jupyter-widgets/base",
       "_model_module_version": "2.0.0",
       "_model_name": "LayoutModel",
       "_view_count": null,
       "_view_module": "@jupyter-widgets/base",
       "_view_module_version": "2.0.0",
       "_view_name": "LayoutView",
       "align_content": null,
       "align_items": null,
       "align_self": null,
       "border_bottom": null,
       "border_left": null,
       "border_right": null,
       "border_top": null,
       "bottom": null,
       "display": null,
       "flex": null,
       "flex_flow": null,
       "grid_area": null,
       "grid_auto_columns": null,
       "grid_auto_flow": null,
       "grid_auto_rows": null,
       "grid_column": null,
       "grid_gap": null,
       "grid_row": null,
       "grid_template_areas": null,
       "grid_template_columns": null,
       "grid_template_rows": null,
       "height": null,
       "justify_content": null,
       "justify_items": null,
       "left": null,
       "margin": null,
       "max_height": null,
       "max_width": null,
       "min_height": null,
       "min_width": null,
       "object_fit": null,
       "object_position": null,
       "order": null,
       "overflow": null,
       "padding": null,
       "right": null,
       "top": null,
       "visibility": null,
       "width": null
      }
     },
     "1a0f80688ff94b83b115dec0c99a7215": {
      "model_module": "@jupyter-widgets/controls",
      "model_module_version": "2.0.0",
      "model_name": "HTMLStyleModel",
      "state": {
       "_model_module": "@jupyter-widgets/controls",
       "_model_module_version": "2.0.0",
       "_model_name": "HTMLStyleModel",
       "_view_count": null,
       "_view_module": "@jupyter-widgets/base",
       "_view_module_version": "2.0.0",
       "_view_name": "StyleView",
       "background": null,
       "description_width": "",
       "font_size": null,
       "text_color": null
      }
     },
     "1cbc2bf7ead741579f9250fa2938926a": {
      "model_module": "@jupyter-widgets/controls",
      "model_module_version": "2.0.0",
      "model_name": "ProgressStyleModel",
      "state": {
       "_model_module": "@jupyter-widgets/controls",
       "_model_module_version": "2.0.0",
       "_model_name": "ProgressStyleModel",
       "_view_count": null,
       "_view_module": "@jupyter-widgets/base",
       "_view_module_version": "2.0.0",
       "_view_name": "StyleView",
       "bar_color": null,
       "description_width": ""
      }
     },
     "1e677e4df22a49878d141331f720073a": {
      "model_module": "@jupyter-widgets/base",
      "model_module_version": "2.0.0",
      "model_name": "LayoutModel",
      "state": {
       "_model_module": "@jupyter-widgets/base",
       "_model_module_version": "2.0.0",
       "_model_name": "LayoutModel",
       "_view_count": null,
       "_view_module": "@jupyter-widgets/base",
       "_view_module_version": "2.0.0",
       "_view_name": "LayoutView",
       "align_content": null,
       "align_items": null,
       "align_self": null,
       "border_bottom": null,
       "border_left": null,
       "border_right": null,
       "border_top": null,
       "bottom": null,
       "display": null,
       "flex": null,
       "flex_flow": null,
       "grid_area": null,
       "grid_auto_columns": null,
       "grid_auto_flow": null,
       "grid_auto_rows": null,
       "grid_column": null,
       "grid_gap": null,
       "grid_row": null,
       "grid_template_areas": null,
       "grid_template_columns": null,
       "grid_template_rows": null,
       "height": null,
       "justify_content": null,
       "justify_items": null,
       "left": null,
       "margin": null,
       "max_height": null,
       "max_width": null,
       "min_height": null,
       "min_width": null,
       "object_fit": null,
       "object_position": null,
       "order": null,
       "overflow": null,
       "padding": null,
       "right": null,
       "top": null,
       "visibility": null,
       "width": null
      }
     },
     "29604f656aeb46e682e431e0000d5b1a": {
      "model_module": "@jupyter-widgets/base",
      "model_module_version": "2.0.0",
      "model_name": "LayoutModel",
      "state": {
       "_model_module": "@jupyter-widgets/base",
       "_model_module_version": "2.0.0",
       "_model_name": "LayoutModel",
       "_view_count": null,
       "_view_module": "@jupyter-widgets/base",
       "_view_module_version": "2.0.0",
       "_view_name": "LayoutView",
       "align_content": null,
       "align_items": null,
       "align_self": null,
       "border_bottom": null,
       "border_left": null,
       "border_right": null,
       "border_top": null,
       "bottom": null,
       "display": null,
       "flex": null,
       "flex_flow": null,
       "grid_area": null,
       "grid_auto_columns": null,
       "grid_auto_flow": null,
       "grid_auto_rows": null,
       "grid_column": null,
       "grid_gap": null,
       "grid_row": null,
       "grid_template_areas": null,
       "grid_template_columns": null,
       "grid_template_rows": null,
       "height": null,
       "justify_content": null,
       "justify_items": null,
       "left": null,
       "margin": null,
       "max_height": null,
       "max_width": null,
       "min_height": null,
       "min_width": null,
       "object_fit": null,
       "object_position": null,
       "order": null,
       "overflow": null,
       "padding": null,
       "right": null,
       "top": null,
       "visibility": null,
       "width": null
      }
     },
     "2b38ee9d79b249aca166c201045c73c6": {
      "model_module": "@jupyter-widgets/base",
      "model_module_version": "2.0.0",
      "model_name": "LayoutModel",
      "state": {
       "_model_module": "@jupyter-widgets/base",
       "_model_module_version": "2.0.0",
       "_model_name": "LayoutModel",
       "_view_count": null,
       "_view_module": "@jupyter-widgets/base",
       "_view_module_version": "2.0.0",
       "_view_name": "LayoutView",
       "align_content": null,
       "align_items": null,
       "align_self": null,
       "border_bottom": null,
       "border_left": null,
       "border_right": null,
       "border_top": null,
       "bottom": null,
       "display": null,
       "flex": null,
       "flex_flow": null,
       "grid_area": null,
       "grid_auto_columns": null,
       "grid_auto_flow": null,
       "grid_auto_rows": null,
       "grid_column": null,
       "grid_gap": null,
       "grid_row": null,
       "grid_template_areas": null,
       "grid_template_columns": null,
       "grid_template_rows": null,
       "height": null,
       "justify_content": null,
       "justify_items": null,
       "left": null,
       "margin": null,
       "max_height": null,
       "max_width": null,
       "min_height": null,
       "min_width": null,
       "object_fit": null,
       "object_position": null,
       "order": null,
       "overflow": null,
       "padding": null,
       "right": null,
       "top": null,
       "visibility": null,
       "width": null
      }
     },
     "2e87df7c68cf4e62ac2ed3c876d414fb": {
      "model_module": "@jupyter-widgets/controls",
      "model_module_version": "2.0.0",
      "model_name": "HTMLModel",
      "state": {
       "_dom_classes": [],
       "_model_module": "@jupyter-widgets/controls",
       "_model_module_version": "2.0.0",
       "_model_name": "HTMLModel",
       "_view_count": null,
       "_view_module": "@jupyter-widgets/controls",
       "_view_module_version": "2.0.0",
       "_view_name": "HTMLView",
       "description": "",
       "description_allow_html": false,
       "layout": "IPY_MODEL_2b38ee9d79b249aca166c201045c73c6",
       "placeholder": "​",
       "style": "IPY_MODEL_3673ea5d67bf4d90bd200ea22e21b8b1",
       "tabbable": null,
       "tooltip": null,
       "value": " 6807/6807 [00:00&lt;00:00, 10543.37 examples/s]"
      }
     },
     "31f32641339b42889699e43fd92b41de": {
      "model_module": "@jupyter-widgets/controls",
      "model_module_version": "2.0.0",
      "model_name": "HTMLStyleModel",
      "state": {
       "_model_module": "@jupyter-widgets/controls",
       "_model_module_version": "2.0.0",
       "_model_name": "HTMLStyleModel",
       "_view_count": null,
       "_view_module": "@jupyter-widgets/base",
       "_view_module_version": "2.0.0",
       "_view_name": "StyleView",
       "background": null,
       "description_width": "",
       "font_size": null,
       "text_color": null
      }
     },
     "3535c0fb6aab4330bb36b804a03e6c65": {
      "model_module": "@jupyter-widgets/controls",
      "model_module_version": "2.0.0",
      "model_name": "FloatProgressModel",
      "state": {
       "_dom_classes": [],
       "_model_module": "@jupyter-widgets/controls",
       "_model_module_version": "2.0.0",
       "_model_name": "FloatProgressModel",
       "_view_count": null,
       "_view_module": "@jupyter-widgets/controls",
       "_view_module_version": "2.0.0",
       "_view_name": "ProgressView",
       "bar_style": "success",
       "description": "",
       "description_allow_html": false,
       "layout": "IPY_MODEL_f250c6e46cf643f281ae41bf00e6daed",
       "max": 6807.0,
       "min": 0.0,
       "orientation": "horizontal",
       "style": "IPY_MODEL_a6680abb9e654cc8b0cecf61f7ae1ac2",
       "tabbable": null,
       "tooltip": null,
       "value": 6807.0
      }
     },
     "35ec117ed071448b9051cee553321a4e": {
      "model_module": "@jupyter-widgets/controls",
      "model_module_version": "2.0.0",
      "model_name": "FloatProgressModel",
      "state": {
       "_dom_classes": [],
       "_model_module": "@jupyter-widgets/controls",
       "_model_module_version": "2.0.0",
       "_model_name": "FloatProgressModel",
       "_view_count": null,
       "_view_module": "@jupyter-widgets/controls",
       "_view_module_version": "2.0.0",
       "_view_name": "ProgressView",
       "bar_style": "success",
       "description": "",
       "description_allow_html": false,
       "layout": "IPY_MODEL_f4cce9f0100848f2b32f6ec15f33137e",
       "max": 6807.0,
       "min": 0.0,
       "orientation": "horizontal",
       "style": "IPY_MODEL_b7903b10bf874d07a87b0815befed556",
       "tabbable": null,
       "tooltip": null,
       "value": 6807.0
      }
     },
     "3673ea5d67bf4d90bd200ea22e21b8b1": {
      "model_module": "@jupyter-widgets/controls",
      "model_module_version": "2.0.0",
      "model_name": "HTMLStyleModel",
      "state": {
       "_model_module": "@jupyter-widgets/controls",
       "_model_module_version": "2.0.0",
       "_model_name": "HTMLStyleModel",
       "_view_count": null,
       "_view_module": "@jupyter-widgets/base",
       "_view_module_version": "2.0.0",
       "_view_name": "StyleView",
       "background": null,
       "description_width": "",
       "font_size": null,
       "text_color": null
      }
     },
     "3d87a84ffa1d4e2dbc5271ba563710b7": {
      "model_module": "@jupyter-widgets/controls",
      "model_module_version": "2.0.0",
      "model_name": "FloatProgressModel",
      "state": {
       "_dom_classes": [],
       "_model_module": "@jupyter-widgets/controls",
       "_model_module_version": "2.0.0",
       "_model_name": "FloatProgressModel",
       "_view_count": null,
       "_view_module": "@jupyter-widgets/controls",
       "_view_module_version": "2.0.0",
       "_view_name": "ProgressView",
       "bar_style": "success",
       "description": "",
       "description_allow_html": false,
       "layout": "IPY_MODEL_d298cee442ca49349f7953ac250a4279",
       "max": 6807.0,
       "min": 0.0,
       "orientation": "horizontal",
       "style": "IPY_MODEL_8afcb038787f41878fb3bafd49b1b041",
       "tabbable": null,
       "tooltip": null,
       "value": 6807.0
      }
     },
     "410d3e00367741eeb7380d9d83b2fbe5": {
      "model_module": "@jupyter-widgets/controls",
      "model_module_version": "2.0.0",
      "model_name": "FloatProgressModel",
      "state": {
       "_dom_classes": [],
       "_model_module": "@jupyter-widgets/controls",
       "_model_module_version": "2.0.0",
       "_model_name": "FloatProgressModel",
       "_view_count": null,
       "_view_module": "@jupyter-widgets/controls",
       "_view_module_version": "2.0.0",
       "_view_name": "ProgressView",
       "bar_style": "success",
       "description": "",
       "description_allow_html": false,
       "layout": "IPY_MODEL_522133271a924f449e67ccbeccc9ed76",
       "max": 10.0,
       "min": 0.0,
       "orientation": "horizontal",
       "style": "IPY_MODEL_1cbc2bf7ead741579f9250fa2938926a",
       "tabbable": null,
       "tooltip": null,
       "value": 10.0
      }
     },
     "463b3eb22c9848bfb85105d53b8d7c3d": {
      "model_module": "@jupyter-widgets/controls",
      "model_module_version": "2.0.0",
      "model_name": "HTMLModel",
      "state": {
       "_dom_classes": [],
       "_model_module": "@jupyter-widgets/controls",
       "_model_module_version": "2.0.0",
       "_model_name": "HTMLModel",
       "_view_count": null,
       "_view_module": "@jupyter-widgets/controls",
       "_view_module_version": "2.0.0",
       "_view_name": "HTMLView",
       "description": "",
       "description_allow_html": false,
       "layout": "IPY_MODEL_04579b8e31a647aaa5e160e74e97a936",
       "placeholder": "​",
       "style": "IPY_MODEL_31f32641339b42889699e43fd92b41de",
       "tabbable": null,
       "tooltip": null,
       "value": "Map (num_proc=2): 100%"
      }
     },
     "46497de9fa474ec0b6d70d0088321c9c": {
      "model_module": "@jupyter-widgets/controls",
      "model_module_version": "2.0.0",
      "model_name": "HTMLModel",
      "state": {
       "_dom_classes": [],
       "_model_module": "@jupyter-widgets/controls",
       "_model_module_version": "2.0.0",
       "_model_name": "HTMLModel",
       "_view_count": null,
       "_view_module": "@jupyter-widgets/controls",
       "_view_module_version": "2.0.0",
       "_view_name": "HTMLView",
       "description": "",
       "description_allow_html": false,
       "layout": "IPY_MODEL_577ebaff913f40d7ad3f4397cefe6755",
       "placeholder": "​",
       "style": "IPY_MODEL_4654b003226b4c84b6eb236919b6b37a",
       "tabbable": null,
       "tooltip": null,
       "value": "Stringifying the column: 100%"
      }
     },
     "4654b003226b4c84b6eb236919b6b37a": {
      "model_module": "@jupyter-widgets/controls",
      "model_module_version": "2.0.0",
      "model_name": "HTMLStyleModel",
      "state": {
       "_model_module": "@jupyter-widgets/controls",
       "_model_module_version": "2.0.0",
       "_model_name": "HTMLStyleModel",
       "_view_count": null,
       "_view_module": "@jupyter-widgets/base",
       "_view_module_version": "2.0.0",
       "_view_name": "StyleView",
       "background": null,
       "description_width": "",
       "font_size": null,
       "text_color": null
      }
     },
     "522133271a924f449e67ccbeccc9ed76": {
      "model_module": "@jupyter-widgets/base",
      "model_module_version": "2.0.0",
      "model_name": "LayoutModel",
      "state": {
       "_model_module": "@jupyter-widgets/base",
       "_model_module_version": "2.0.0",
       "_model_name": "LayoutModel",
       "_view_count": null,
       "_view_module": "@jupyter-widgets/base",
       "_view_module_version": "2.0.0",
       "_view_name": "LayoutView",
       "align_content": null,
       "align_items": null,
       "align_self": null,
       "border_bottom": null,
       "border_left": null,
       "border_right": null,
       "border_top": null,
       "bottom": null,
       "display": null,
       "flex": null,
       "flex_flow": null,
       "grid_area": null,
       "grid_auto_columns": null,
       "grid_auto_flow": null,
       "grid_auto_rows": null,
       "grid_column": null,
       "grid_gap": null,
       "grid_row": null,
       "grid_template_areas": null,
       "grid_template_columns": null,
       "grid_template_rows": null,
       "height": null,
       "justify_content": null,
       "justify_items": null,
       "left": null,
       "margin": null,
       "max_height": null,
       "max_width": null,
       "min_height": null,
       "min_width": null,
       "object_fit": null,
       "object_position": null,
       "order": null,
       "overflow": null,
       "padding": null,
       "right": null,
       "top": null,
       "visibility": null,
       "width": null
      }
     },
     "558786cbee4b4e01b8064acc3f47443e": {
      "model_module": "@jupyter-widgets/controls",
      "model_module_version": "2.0.0",
      "model_name": "HTMLStyleModel",
      "state": {
       "_model_module": "@jupyter-widgets/controls",
       "_model_module_version": "2.0.0",
       "_model_name": "HTMLStyleModel",
       "_view_count": null,
       "_view_module": "@jupyter-widgets/base",
       "_view_module_version": "2.0.0",
       "_view_name": "StyleView",
       "background": null,
       "description_width": "",
       "font_size": null,
       "text_color": null
      }
     },
     "577ebaff913f40d7ad3f4397cefe6755": {
      "model_module": "@jupyter-widgets/base",
      "model_module_version": "2.0.0",
      "model_name": "LayoutModel",
      "state": {
       "_model_module": "@jupyter-widgets/base",
       "_model_module_version": "2.0.0",
       "_model_name": "LayoutModel",
       "_view_count": null,
       "_view_module": "@jupyter-widgets/base",
       "_view_module_version": "2.0.0",
       "_view_name": "LayoutView",
       "align_content": null,
       "align_items": null,
       "align_self": null,
       "border_bottom": null,
       "border_left": null,
       "border_right": null,
       "border_top": null,
       "bottom": null,
       "display": null,
       "flex": null,
       "flex_flow": null,
       "grid_area": null,
       "grid_auto_columns": null,
       "grid_auto_flow": null,
       "grid_auto_rows": null,
       "grid_column": null,
       "grid_gap": null,
       "grid_row": null,
       "grid_template_areas": null,
       "grid_template_columns": null,
       "grid_template_rows": null,
       "height": null,
       "justify_content": null,
       "justify_items": null,
       "left": null,
       "margin": null,
       "max_height": null,
       "max_width": null,
       "min_height": null,
       "min_width": null,
       "object_fit": null,
       "object_position": null,
       "order": null,
       "overflow": null,
       "padding": null,
       "right": null,
       "top": null,
       "visibility": null,
       "width": null
      }
     },
     "60af3dec74cf48479a6a747bd069825e": {
      "model_module": "@jupyter-widgets/controls",
      "model_module_version": "2.0.0",
      "model_name": "HTMLModel",
      "state": {
       "_dom_classes": [],
       "_model_module": "@jupyter-widgets/controls",
       "_model_module_version": "2.0.0",
       "_model_name": "HTMLModel",
       "_view_count": null,
       "_view_module": "@jupyter-widgets/controls",
       "_view_module_version": "2.0.0",
       "_view_name": "HTMLView",
       "description": "",
       "description_allow_html": false,
       "layout": "IPY_MODEL_29604f656aeb46e682e431e0000d5b1a",
       "placeholder": "​",
       "style": "IPY_MODEL_1a0f80688ff94b83b115dec0c99a7215",
       "tabbable": null,
       "tooltip": null,
       "value": "Map (num_proc=2): 100%"
      }
     },
     "6caf8c3d0690439ebea6d24aea3a8c2d": {
      "model_module": "@jupyter-widgets/controls",
      "model_module_version": "2.0.0",
      "model_name": "HTMLStyleModel",
      "state": {
       "_model_module": "@jupyter-widgets/controls",
       "_model_module_version": "2.0.0",
       "_model_name": "HTMLStyleModel",
       "_view_count": null,
       "_view_module": "@jupyter-widgets/base",
       "_view_module_version": "2.0.0",
       "_view_name": "StyleView",
       "background": null,
       "description_width": "",
       "font_size": null,
       "text_color": null
      }
     },
     "751c62f9a4464e0bb1f8ae2eafa36852": {
      "model_module": "@jupyter-widgets/base",
      "model_module_version": "2.0.0",
      "model_name": "LayoutModel",
      "state": {
       "_model_module": "@jupyter-widgets/base",
       "_model_module_version": "2.0.0",
       "_model_name": "LayoutModel",
       "_view_count": null,
       "_view_module": "@jupyter-widgets/base",
       "_view_module_version": "2.0.0",
       "_view_name": "LayoutView",
       "align_content": null,
       "align_items": null,
       "align_self": null,
       "border_bottom": null,
       "border_left": null,
       "border_right": null,
       "border_top": null,
       "bottom": null,
       "display": null,
       "flex": null,
       "flex_flow": null,
       "grid_area": null,
       "grid_auto_columns": null,
       "grid_auto_flow": null,
       "grid_auto_rows": null,
       "grid_column": null,
       "grid_gap": null,
       "grid_row": null,
       "grid_template_areas": null,
       "grid_template_columns": null,
       "grid_template_rows": null,
       "height": null,
       "justify_content": null,
       "justify_items": null,
       "left": null,
       "margin": null,
       "max_height": null,
       "max_width": null,
       "min_height": null,
       "min_width": null,
       "object_fit": null,
       "object_position": null,
       "order": null,
       "overflow": null,
       "padding": null,
       "right": null,
       "top": null,
       "visibility": null,
       "width": null
      }
     },
     "77d878cb66734d099d656e1931fdb7b1": {
      "model_module": "@jupyter-widgets/base",
      "model_module_version": "2.0.0",
      "model_name": "LayoutModel",
      "state": {
       "_model_module": "@jupyter-widgets/base",
       "_model_module_version": "2.0.0",
       "_model_name": "LayoutModel",
       "_view_count": null,
       "_view_module": "@jupyter-widgets/base",
       "_view_module_version": "2.0.0",
       "_view_name": "LayoutView",
       "align_content": null,
       "align_items": null,
       "align_self": null,
       "border_bottom": null,
       "border_left": null,
       "border_right": null,
       "border_top": null,
       "bottom": null,
       "display": null,
       "flex": null,
       "flex_flow": null,
       "grid_area": null,
       "grid_auto_columns": null,
       "grid_auto_flow": null,
       "grid_auto_rows": null,
       "grid_column": null,
       "grid_gap": null,
       "grid_row": null,
       "grid_template_areas": null,
       "grid_template_columns": null,
       "grid_template_rows": null,
       "height": null,
       "justify_content": null,
       "justify_items": null,
       "left": null,
       "margin": null,
       "max_height": null,
       "max_width": null,
       "min_height": null,
       "min_width": null,
       "object_fit": null,
       "object_position": null,
       "order": null,
       "overflow": null,
       "padding": null,
       "right": null,
       "top": null,
       "visibility": null,
       "width": null
      }
     },
     "77d9f89c581a445fa81d3f3025f1fe73": {
      "model_module": "@jupyter-widgets/controls",
      "model_module_version": "2.0.0",
      "model_name": "HTMLModel",
      "state": {
       "_dom_classes": [],
       "_model_module": "@jupyter-widgets/controls",
       "_model_module_version": "2.0.0",
       "_model_name": "HTMLModel",
       "_view_count": null,
       "_view_module": "@jupyter-widgets/controls",
       "_view_module_version": "2.0.0",
       "_view_name": "HTMLView",
       "description": "",
       "description_allow_html": false,
       "layout": "IPY_MODEL_187823a922be4114a2cebb7cfcf06501",
       "placeholder": "​",
       "style": "IPY_MODEL_558786cbee4b4e01b8064acc3f47443e",
       "tabbable": null,
       "tooltip": null,
       "value": " 6807/6807 [00:29&lt;00:00, 46.79 examples/s]"
      }
     },
     "7c5fc9dbeee840ac939f777917f4500e": {
      "model_module": "@jupyter-widgets/controls",
      "model_module_version": "2.0.0",
      "model_name": "HTMLModel",
      "state": {
       "_dom_classes": [],
       "_model_module": "@jupyter-widgets/controls",
       "_model_module_version": "2.0.0",
       "_model_name": "HTMLModel",
       "_view_count": null,
       "_view_module": "@jupyter-widgets/controls",
       "_view_module_version": "2.0.0",
       "_view_name": "HTMLView",
       "description": "",
       "description_allow_html": false,
       "layout": "IPY_MODEL_77d878cb66734d099d656e1931fdb7b1",
       "placeholder": "​",
       "style": "IPY_MODEL_b8be2679b68d49ef8234d2015a19a5db",
       "tabbable": null,
       "tooltip": null,
       "value": "Casting to class labels: 100%"
      }
     },
     "852f0b0e1f2b40c59a986e7789c43c0b": {
      "model_module": "@jupyter-widgets/controls",
      "model_module_version": "2.0.0",
      "model_name": "HBoxModel",
      "state": {
       "_dom_classes": [],
       "_model_module": "@jupyter-widgets/controls",
       "_model_module_version": "2.0.0",
       "_model_name": "HBoxModel",
       "_view_count": null,
       "_view_module": "@jupyter-widgets/controls",
       "_view_module_version": "2.0.0",
       "_view_name": "HBoxView",
       "box_style": "",
       "children": [
        "IPY_MODEL_463b3eb22c9848bfb85105d53b8d7c3d",
        "IPY_MODEL_410d3e00367741eeb7380d9d83b2fbe5",
        "IPY_MODEL_cd6261001ca040bf86d3b27f36904da8"
       ],
       "layout": "IPY_MODEL_cb8ac7b565df465fbe96c3fa49ca8aca",
       "tabbable": null,
       "tooltip": null
      }
     },
     "8afcb038787f41878fb3bafd49b1b041": {
      "model_module": "@jupyter-widgets/controls",
      "model_module_version": "2.0.0",
      "model_name": "ProgressStyleModel",
      "state": {
       "_model_module": "@jupyter-widgets/controls",
       "_model_module_version": "2.0.0",
       "_model_name": "ProgressStyleModel",
       "_view_count": null,
       "_view_module": "@jupyter-widgets/base",
       "_view_module_version": "2.0.0",
       "_view_name": "StyleView",
       "bar_color": null,
       "description_width": ""
      }
     },
     "8f3e7ed25e584f4f9514bc6cb4a62f23": {
      "model_module": "@jupyter-widgets/controls",
      "model_module_version": "2.0.0",
      "model_name": "HBoxModel",
      "state": {
       "_dom_classes": [],
       "_model_module": "@jupyter-widgets/controls",
       "_model_module_version": "2.0.0",
       "_model_name": "HBoxModel",
       "_view_count": null,
       "_view_module": "@jupyter-widgets/controls",
       "_view_module_version": "2.0.0",
       "_view_name": "HBoxView",
       "box_style": "",
       "children": [
        "IPY_MODEL_7c5fc9dbeee840ac939f777917f4500e",
        "IPY_MODEL_3535c0fb6aab4330bb36b804a03e6c65",
        "IPY_MODEL_2e87df7c68cf4e62ac2ed3c876d414fb"
       ],
       "layout": "IPY_MODEL_e5a228318dea4b5fa6a1c3d4b5d997c7",
       "tabbable": null,
       "tooltip": null
      }
     },
     "9d6306e354414dd5b34ab33baa97667c": {
      "model_module": "@jupyter-widgets/controls",
      "model_module_version": "2.0.0",
      "model_name": "HTMLStyleModel",
      "state": {
       "_model_module": "@jupyter-widgets/controls",
       "_model_module_version": "2.0.0",
       "_model_name": "HTMLStyleModel",
       "_view_count": null,
       "_view_module": "@jupyter-widgets/base",
       "_view_module_version": "2.0.0",
       "_view_name": "StyleView",
       "background": null,
       "description_width": "",
       "font_size": null,
       "text_color": null
      }
     },
     "a6680abb9e654cc8b0cecf61f7ae1ac2": {
      "model_module": "@jupyter-widgets/controls",
      "model_module_version": "2.0.0",
      "model_name": "ProgressStyleModel",
      "state": {
       "_model_module": "@jupyter-widgets/controls",
       "_model_module_version": "2.0.0",
       "_model_name": "ProgressStyleModel",
       "_view_count": null,
       "_view_module": "@jupyter-widgets/base",
       "_view_module_version": "2.0.0",
       "_view_name": "StyleView",
       "bar_color": null,
       "description_width": ""
      }
     },
     "b7903b10bf874d07a87b0815befed556": {
      "model_module": "@jupyter-widgets/controls",
      "model_module_version": "2.0.0",
      "model_name": "ProgressStyleModel",
      "state": {
       "_model_module": "@jupyter-widgets/controls",
       "_model_module_version": "2.0.0",
       "_model_name": "ProgressStyleModel",
       "_view_count": null,
       "_view_module": "@jupyter-widgets/base",
       "_view_module_version": "2.0.0",
       "_view_name": "StyleView",
       "bar_color": null,
       "description_width": ""
      }
     },
     "b8be2679b68d49ef8234d2015a19a5db": {
      "model_module": "@jupyter-widgets/controls",
      "model_module_version": "2.0.0",
      "model_name": "HTMLStyleModel",
      "state": {
       "_model_module": "@jupyter-widgets/controls",
       "_model_module_version": "2.0.0",
       "_model_name": "HTMLStyleModel",
       "_view_count": null,
       "_view_module": "@jupyter-widgets/base",
       "_view_module_version": "2.0.0",
       "_view_name": "StyleView",
       "background": null,
       "description_width": "",
       "font_size": null,
       "text_color": null
      }
     },
     "bcdd8195486a4108b9b6b8a018935389": {
      "model_module": "@jupyter-widgets/base",
      "model_module_version": "2.0.0",
      "model_name": "LayoutModel",
      "state": {
       "_model_module": "@jupyter-widgets/base",
       "_model_module_version": "2.0.0",
       "_model_name": "LayoutModel",
       "_view_count": null,
       "_view_module": "@jupyter-widgets/base",
       "_view_module_version": "2.0.0",
       "_view_name": "LayoutView",
       "align_content": null,
       "align_items": null,
       "align_self": null,
       "border_bottom": null,
       "border_left": null,
       "border_right": null,
       "border_top": null,
       "bottom": null,
       "display": null,
       "flex": null,
       "flex_flow": null,
       "grid_area": null,
       "grid_auto_columns": null,
       "grid_auto_flow": null,
       "grid_auto_rows": null,
       "grid_column": null,
       "grid_gap": null,
       "grid_row": null,
       "grid_template_areas": null,
       "grid_template_columns": null,
       "grid_template_rows": null,
       "height": null,
       "justify_content": null,
       "justify_items": null,
       "left": null,
       "margin": null,
       "max_height": null,
       "max_width": null,
       "min_height": null,
       "min_width": null,
       "object_fit": null,
       "object_position": null,
       "order": null,
       "overflow": null,
       "padding": null,
       "right": null,
       "top": null,
       "visibility": null,
       "width": null
      }
     },
     "bd562d70dd4a4b9db544a29473494265": {
      "model_module": "@jupyter-widgets/controls",
      "model_module_version": "2.0.0",
      "model_name": "HBoxModel",
      "state": {
       "_dom_classes": [],
       "_model_module": "@jupyter-widgets/controls",
       "_model_module_version": "2.0.0",
       "_model_name": "HBoxModel",
       "_view_count": null,
       "_view_module": "@jupyter-widgets/controls",
       "_view_module_version": "2.0.0",
       "_view_name": "HBoxView",
       "box_style": "",
       "children": [
        "IPY_MODEL_46497de9fa474ec0b6d70d0088321c9c",
        "IPY_MODEL_3d87a84ffa1d4e2dbc5271ba563710b7",
        "IPY_MODEL_ffd4754bdfc74bb784e95af391c8a9c8"
       ],
       "layout": "IPY_MODEL_751c62f9a4464e0bb1f8ae2eafa36852",
       "tabbable": null,
       "tooltip": null
      }
     },
     "cb8ac7b565df465fbe96c3fa49ca8aca": {
      "model_module": "@jupyter-widgets/base",
      "model_module_version": "2.0.0",
      "model_name": "LayoutModel",
      "state": {
       "_model_module": "@jupyter-widgets/base",
       "_model_module_version": "2.0.0",
       "_model_name": "LayoutModel",
       "_view_count": null,
       "_view_module": "@jupyter-widgets/base",
       "_view_module_version": "2.0.0",
       "_view_name": "LayoutView",
       "align_content": null,
       "align_items": null,
       "align_self": null,
       "border_bottom": null,
       "border_left": null,
       "border_right": null,
       "border_top": null,
       "bottom": null,
       "display": null,
       "flex": null,
       "flex_flow": null,
       "grid_area": null,
       "grid_auto_columns": null,
       "grid_auto_flow": null,
       "grid_auto_rows": null,
       "grid_column": null,
       "grid_gap": null,
       "grid_row": null,
       "grid_template_areas": null,
       "grid_template_columns": null,
       "grid_template_rows": null,
       "height": null,
       "justify_content": null,
       "justify_items": null,
       "left": null,
       "margin": null,
       "max_height": null,
       "max_width": null,
       "min_height": null,
       "min_width": null,
       "object_fit": null,
       "object_position": null,
       "order": null,
       "overflow": null,
       "padding": null,
       "right": null,
       "top": null,
       "visibility": null,
       "width": null
      }
     },
     "cd6261001ca040bf86d3b27f36904da8": {
      "model_module": "@jupyter-widgets/controls",
      "model_module_version": "2.0.0",
      "model_name": "HTMLModel",
      "state": {
       "_dom_classes": [],
       "_model_module": "@jupyter-widgets/controls",
       "_model_module_version": "2.0.0",
       "_model_name": "HTMLModel",
       "_view_count": null,
       "_view_module": "@jupyter-widgets/controls",
       "_view_module_version": "2.0.0",
       "_view_name": "HTMLView",
       "description": "",
       "description_allow_html": false,
       "layout": "IPY_MODEL_e6899c7974c34a98baa83bfde1e7e6d0",
       "placeholder": "​",
       "style": "IPY_MODEL_9d6306e354414dd5b34ab33baa97667c",
       "tabbable": null,
       "tooltip": null,
       "value": " 10/10 [00:00&lt;00:00,  8.88 examples/s]"
      }
     },
     "d298cee442ca49349f7953ac250a4279": {
      "model_module": "@jupyter-widgets/base",
      "model_module_version": "2.0.0",
      "model_name": "LayoutModel",
      "state": {
       "_model_module": "@jupyter-widgets/base",
       "_model_module_version": "2.0.0",
       "_model_name": "LayoutModel",
       "_view_count": null,
       "_view_module": "@jupyter-widgets/base",
       "_view_module_version": "2.0.0",
       "_view_name": "LayoutView",
       "align_content": null,
       "align_items": null,
       "align_self": null,
       "border_bottom": null,
       "border_left": null,
       "border_right": null,
       "border_top": null,
       "bottom": null,
       "display": null,
       "flex": null,
       "flex_flow": null,
       "grid_area": null,
       "grid_auto_columns": null,
       "grid_auto_flow": null,
       "grid_auto_rows": null,
       "grid_column": null,
       "grid_gap": null,
       "grid_row": null,
       "grid_template_areas": null,
       "grid_template_columns": null,
       "grid_template_rows": null,
       "height": null,
       "justify_content": null,
       "justify_items": null,
       "left": null,
       "margin": null,
       "max_height": null,
       "max_width": null,
       "min_height": null,
       "min_width": null,
       "object_fit": null,
       "object_position": null,
       "order": null,
       "overflow": null,
       "padding": null,
       "right": null,
       "top": null,
       "visibility": null,
       "width": null
      }
     },
     "e074404874ce4c0bbf076e4f88e2f4b6": {
      "model_module": "@jupyter-widgets/controls",
      "model_module_version": "2.0.0",
      "model_name": "HBoxModel",
      "state": {
       "_dom_classes": [],
       "_model_module": "@jupyter-widgets/controls",
       "_model_module_version": "2.0.0",
       "_model_name": "HBoxModel",
       "_view_count": null,
       "_view_module": "@jupyter-widgets/controls",
       "_view_module_version": "2.0.0",
       "_view_name": "HBoxView",
       "box_style": "",
       "children": [
        "IPY_MODEL_60af3dec74cf48479a6a747bd069825e",
        "IPY_MODEL_35ec117ed071448b9051cee553321a4e",
        "IPY_MODEL_77d9f89c581a445fa81d3f3025f1fe73"
       ],
       "layout": "IPY_MODEL_bcdd8195486a4108b9b6b8a018935389",
       "tabbable": null,
       "tooltip": null
      }
     },
     "e5a228318dea4b5fa6a1c3d4b5d997c7": {
      "model_module": "@jupyter-widgets/base",
      "model_module_version": "2.0.0",
      "model_name": "LayoutModel",
      "state": {
       "_model_module": "@jupyter-widgets/base",
       "_model_module_version": "2.0.0",
       "_model_name": "LayoutModel",
       "_view_count": null,
       "_view_module": "@jupyter-widgets/base",
       "_view_module_version": "2.0.0",
       "_view_name": "LayoutView",
       "align_content": null,
       "align_items": null,
       "align_self": null,
       "border_bottom": null,
       "border_left": null,
       "border_right": null,
       "border_top": null,
       "bottom": null,
       "display": null,
       "flex": null,
       "flex_flow": null,
       "grid_area": null,
       "grid_auto_columns": null,
       "grid_auto_flow": null,
       "grid_auto_rows": null,
       "grid_column": null,
       "grid_gap": null,
       "grid_row": null,
       "grid_template_areas": null,
       "grid_template_columns": null,
       "grid_template_rows": null,
       "height": null,
       "justify_content": null,
       "justify_items": null,
       "left": null,
       "margin": null,
       "max_height": null,
       "max_width": null,
       "min_height": null,
       "min_width": null,
       "object_fit": null,
       "object_position": null,
       "order": null,
       "overflow": null,
       "padding": null,
       "right": null,
       "top": null,
       "visibility": null,
       "width": null
      }
     },
     "e6899c7974c34a98baa83bfde1e7e6d0": {
      "model_module": "@jupyter-widgets/base",
      "model_module_version": "2.0.0",
      "model_name": "LayoutModel",
      "state": {
       "_model_module": "@jupyter-widgets/base",
       "_model_module_version": "2.0.0",
       "_model_name": "LayoutModel",
       "_view_count": null,
       "_view_module": "@jupyter-widgets/base",
       "_view_module_version": "2.0.0",
       "_view_name": "LayoutView",
       "align_content": null,
       "align_items": null,
       "align_self": null,
       "border_bottom": null,
       "border_left": null,
       "border_right": null,
       "border_top": null,
       "bottom": null,
       "display": null,
       "flex": null,
       "flex_flow": null,
       "grid_area": null,
       "grid_auto_columns": null,
       "grid_auto_flow": null,
       "grid_auto_rows": null,
       "grid_column": null,
       "grid_gap": null,
       "grid_row": null,
       "grid_template_areas": null,
       "grid_template_columns": null,
       "grid_template_rows": null,
       "height": null,
       "justify_content": null,
       "justify_items": null,
       "left": null,
       "margin": null,
       "max_height": null,
       "max_width": null,
       "min_height": null,
       "min_width": null,
       "object_fit": null,
       "object_position": null,
       "order": null,
       "overflow": null,
       "padding": null,
       "right": null,
       "top": null,
       "visibility": null,
       "width": null
      }
     },
     "f250c6e46cf643f281ae41bf00e6daed": {
      "model_module": "@jupyter-widgets/base",
      "model_module_version": "2.0.0",
      "model_name": "LayoutModel",
      "state": {
       "_model_module": "@jupyter-widgets/base",
       "_model_module_version": "2.0.0",
       "_model_name": "LayoutModel",
       "_view_count": null,
       "_view_module": "@jupyter-widgets/base",
       "_view_module_version": "2.0.0",
       "_view_name": "LayoutView",
       "align_content": null,
       "align_items": null,
       "align_self": null,
       "border_bottom": null,
       "border_left": null,
       "border_right": null,
       "border_top": null,
       "bottom": null,
       "display": null,
       "flex": null,
       "flex_flow": null,
       "grid_area": null,
       "grid_auto_columns": null,
       "grid_auto_flow": null,
       "grid_auto_rows": null,
       "grid_column": null,
       "grid_gap": null,
       "grid_row": null,
       "grid_template_areas": null,
       "grid_template_columns": null,
       "grid_template_rows": null,
       "height": null,
       "justify_content": null,
       "justify_items": null,
       "left": null,
       "margin": null,
       "max_height": null,
       "max_width": null,
       "min_height": null,
       "min_width": null,
       "object_fit": null,
       "object_position": null,
       "order": null,
       "overflow": null,
       "padding": null,
       "right": null,
       "top": null,
       "visibility": null,
       "width": null
      }
     },
     "f4cce9f0100848f2b32f6ec15f33137e": {
      "model_module": "@jupyter-widgets/base",
      "model_module_version": "2.0.0",
      "model_name": "LayoutModel",
      "state": {
       "_model_module": "@jupyter-widgets/base",
       "_model_module_version": "2.0.0",
       "_model_name": "LayoutModel",
       "_view_count": null,
       "_view_module": "@jupyter-widgets/base",
       "_view_module_version": "2.0.0",
       "_view_name": "LayoutView",
       "align_content": null,
       "align_items": null,
       "align_self": null,
       "border_bottom": null,
       "border_left": null,
       "border_right": null,
       "border_top": null,
       "bottom": null,
       "display": null,
       "flex": null,
       "flex_flow": null,
       "grid_area": null,
       "grid_auto_columns": null,
       "grid_auto_flow": null,
       "grid_auto_rows": null,
       "grid_column": null,
       "grid_gap": null,
       "grid_row": null,
       "grid_template_areas": null,
       "grid_template_columns": null,
       "grid_template_rows": null,
       "height": null,
       "justify_content": null,
       "justify_items": null,
       "left": null,
       "margin": null,
       "max_height": null,
       "max_width": null,
       "min_height": null,
       "min_width": null,
       "object_fit": null,
       "object_position": null,
       "order": null,
       "overflow": null,
       "padding": null,
       "right": null,
       "top": null,
       "visibility": null,
       "width": null
      }
     },
     "ffd4754bdfc74bb784e95af391c8a9c8": {
      "model_module": "@jupyter-widgets/controls",
      "model_module_version": "2.0.0",
      "model_name": "HTMLModel",
      "state": {
       "_dom_classes": [],
       "_model_module": "@jupyter-widgets/controls",
       "_model_module_version": "2.0.0",
       "_model_name": "HTMLModel",
       "_view_count": null,
       "_view_module": "@jupyter-widgets/controls",
       "_view_module_version": "2.0.0",
       "_view_name": "HTMLView",
       "description": "",
       "description_allow_html": false,
       "layout": "IPY_MODEL_1e677e4df22a49878d141331f720073a",
       "placeholder": "​",
       "style": "IPY_MODEL_6caf8c3d0690439ebea6d24aea3a8c2d",
       "tabbable": null,
       "tooltip": null,
       "value": " 6807/6807 [00:00&lt;00:00, 14638.96 examples/s]"
      }
     }
    },
    "version_major": 2,
    "version_minor": 0
   }
  }
 },
 "nbformat": 4,
 "nbformat_minor": 5
}
